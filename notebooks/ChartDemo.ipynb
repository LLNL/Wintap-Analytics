{
 "cells": [
  {
   "cell_type": "markdown",
   "metadata": {
    "id": "Y603_mzp4MlA"
   },
   "source": [
    "# A quick look at exploring Wintap data\n",
    "\n",
    "This notebook is a simple example of looking at Wintap data in Jupyter.\n",
    "\n",
    "It shows how to use:\n",
    "* SQL via DuckDB\n",
    "* Basic queries and data review\n",
    "* Charting data with Altair\n",
    "\n",
    "__Note: in some case, there may be a Javascript error when rendering the charts. A workaround is to disable the interactive feature, by removing the \".interactive()\" call in the chart display command.__"
   ]
  },
  {
   "cell_type": "code",
   "execution_count": null,
   "metadata": {
    "colab": {
     "base_uri": "https://localhost:8080/"
    },
    "id": "ryWZT7a8fR9m",
    "outputId": "4251cc59-9257-4b7f-c3cc-f00c84ca6d92"
   },
   "outputs": [],
   "source": [
    "# Install packages we'll need\n",
    "!pip install duckdb==0.10.1 magic_duckdb altair\n",
    "%reload_ext magic_duckdb"
   ]
  },
  {
   "cell_type": "code",
   "execution_count": null,
   "metadata": {
    "colab": {
     "base_uri": "https://localhost:8080/"
    },
    "id": "6hJElApDfbSl",
    "outputId": "e2a1ea31-9e1d-4467-f051-bb858d92d342"
   },
   "outputs": [],
   "source": [
    "IN_COLAB = True\n",
    "try:\n",
    "  import google.colab\n",
    "except:\n",
    "  IN_COLAB = False\n",
    "\n",
    "if IN_COLAB:\n",
    "  # Download the sample data file. Its actually in https://tinyurl.com/wintapdata/ACME-workshop-20231109-20231111.db, but this is a direct reference that works better.\n",
    "  !gdown 1ELBBx3p2ngVSIyf7Neu0F50vd-qf9XDO"
   ]
  },
  {
   "cell_type": "code",
   "execution_count": null,
   "metadata": {
    "id": "aBl6AzIdiZKb"
   },
   "outputs": [],
   "source": [
    "# Connect to the database instance\n",
    "# This cell is creating a python variable database connection and then supplying that to the \"magic_duckdb\" Jupyter extension\n",
    "# which allows the single-line SQL (%dql) and multiline SQL (%%dql) \"magics\". https://github.com/iqmo-org/magic_duckdb\n",
    "import duckdb\n",
    "\n",
    "conn = duckdb.connect('ACME-workshop-20231109-20231111.db', read_only=True)\n",
    "%dql -co conn"
   ]
  },
  {
   "cell_type": "markdown",
   "metadata": {
    "id": "K7OE97T_NlhD"
   },
   "source": [
    "# Display Data\n",
    "\n",
    "A few immediate questions are: what tables are here? What columns are in those tables and how do I see some of the data?"
   ]
  },
  {
   "cell_type": "code",
   "execution_count": null,
   "metadata": {
    "colab": {
     "base_uri": "https://localhost:8080/",
     "height": 1000
    },
    "id": "v5L2RebrN9ge",
    "outputId": "26dc34ab-4344-4920-df76-2b7c42df7a26"
   },
   "outputs": [],
   "source": [
    "# Lets see all those tables\n",
    "%dql show all tables"
   ]
  },
  {
   "cell_type": "code",
   "execution_count": null,
   "metadata": {
    "colab": {
     "base_uri": "https://localhost:8080/",
     "height": 1000
    },
    "id": "m3y8S5J9kjnH",
    "outputId": "5aa98f76-f1ba-4e85-fdca-5feffa45ba05"
   },
   "outputs": [],
   "source": [
    "# Duckdb's summarize command display the schema of a table along with some useful metrics. And its fast!\n",
    "%dql summarize process"
   ]
  },
  {
   "cell_type": "code",
   "execution_count": null,
   "metadata": {
    "colab": {
     "base_uri": "https://localhost:8080/",
     "height": 426
    },
    "id": "fLJC9D2LyHx1",
    "outputId": "1ff4e0d8-de38-4059-98d0-e72e67b204e2"
   },
   "outputs": [],
   "source": [
    "# Lets see all rows in a table\n",
    "%dql select * from host"
   ]
  },
  {
   "cell_type": "code",
   "execution_count": null,
   "metadata": {
    "colab": {
     "base_uri": "https://localhost:8080/",
     "height": 1000
    },
    "id": "t6sl110QOJep",
    "outputId": "e7e4f42a-9ef6-4eb0-e77d-39f22505e852"
   },
   "outputs": [],
   "source": [
    "# Lets just see a few to get an idea of whats in there\n",
    "%dql select * from process limit 20"
   ]
  },
  {
   "cell_type": "markdown",
   "metadata": {
    "id": "dJyE7wEUHyfQ"
   },
   "source": [
    "# Charting data with Altair\n",
    "\n",
    "Altair is sophisticated, declaritive python package that allows for large range of charting types that are easily customizable and interactive.\n",
    "\n",
    "The first thing we need to do to leverage them is convert data from its SQL source to a Pandas dataframe. Pandas are the defacto python data model for just about all data analytics packages.\n",
    "\n",
    "The Pandas conversion is easily done from DuckDB with the \"-o\" output to variable flag.\n"
   ]
  },
  {
   "cell_type": "code",
   "execution_count": null,
   "metadata": {
    "colab": {
     "base_uri": "https://localhost:8080/",
     "height": 419
    },
    "id": "cPEqQmCGmuIy",
    "outputId": "e65692c7-bf3a-4fe3-dcfe-dea186367d09"
   },
   "outputs": [],
   "source": [
    "import altair as alt\n",
    "\n",
    "%dql -o procDF select process_name, count(*) num_rows from process group by all"
   ]
  },
  {
   "cell_type": "code",
   "execution_count": null,
   "metadata": {
    "colab": {
     "base_uri": "https://localhost:8080/",
     "height": 875
    },
    "id": "0UuofCp4lW8K",
    "outputId": "033df6f9-9808-4e35-cd91-c5c620ad5c3e"
   },
   "outputs": [],
   "source": [
    "alt.Chart(procDF).mark_bar().encode(\n",
    "    x='process_name',\n",
    "    y=alt.Y('num_rows',scale=alt.Scale(type=\"log\")),\n",
    "    color='process_name',\n",
    "    tooltip=['process_name:N','num_rows:Q'],\n",
    ").properties(\n",
    "    width=1400,\n",
    "    height=600,\n",
    "    title=\"Distribution of process executions by name\"\n",
    ").interactive()\n"
   ]
  },
  {
   "cell_type": "markdown",
   "metadata": {
    "id": "TtD4Z2nlJFFV"
   },
   "source": [
    "# A more complex example\n",
    "In this example, we're going to generate a dataframe that will be process utilization per time interval and chart that. For example, in a given 5 minute window, what is the relative percentage of bytes attributed to each process that did network transfers in that period.\n",
    "\n",
    "Note that many features are calculate for each interval. Try charting different features to see if there is anything intersting beyong the bytes transferred."
   ]
  },
  {
   "cell_type": "code",
   "execution_count": null,
   "metadata": {
    "id": "g91a-gBSwkAs"
   },
   "outputs": [],
   "source": [
    "# Define parameters for the next chart\n",
    "alt.data_transformers.disable_max_rows()\n",
    "interval='5 minutes'\n",
    "hostname='ACME-HH-AKA'"
   ]
  },
  {
   "cell_type": "code",
   "execution_count": null,
   "metadata": {
    "colab": {
     "base_uri": "https://localhost:8080/",
     "height": 609
    },
    "id": "gMqplpZCvRb_",
    "outputId": "04f8200f-a244-4eed-b060-ab767ec55aeb"
   },
   "outputs": [],
   "source": [
    "%%dql -j -o netuse_df\n",
    "SELECT\n",
    "  -- Get all columns from the inline view\n",
    "  *,\n",
    "  -- Using window functions, calculate the percent and rank by time chunk and time chunk rank by host overall activity\n",
    "  round((tot_bytes/(sum(tot_bytes) OVER (PARTITION BY hostname, time_chunk)))*100,2) tc_process_pct,\n",
    "  RANK() OVER (PARTITION BY hostname, time_chunk ORDER BY tot_bytes DESC) tc_rank_pos,\n",
    "  round((tot_bytes/sum(tot_bytes) OVER (PARTITION BY hostname))*100,2) process_pct,\n",
    "  -- Rank over the host\n",
    "  RANK() OVER (PARTITION BY hostname ORDER BY tot_bytes DESC) rank_pos\n",
    "FROM (\n",
    "-- This query groups detail rows into time buckets, which then used to generate a histogram.\n",
    "\tSELECT\n",
    "\t  p.hostname,\n",
    "\t  p.process_name,\n",
    "      time_bucket(INTERVAL {{interval}}, pnc.first_seen) time_chunk,\n",
    "\t  count(DISTINCT p.pid_hash) num_pid_hash,\n",
    "\t  count(DISTINCT conn_id) num_conn_id,\n",
    "\t  count(DISTINCT remote_ip_addr) num_remote_ip,\n",
    "\t  count(DISTINCT remote_port) num_remote_port,\n",
    "\t  sum(pnc.total_events) total_events,\n",
    "\t  sum(pnc.total_size) tot_bytes\n",
    "\tFROM process_net_conn pnc\n",
    "\tJOIN process p ON p.pid_hash=pnc.pid_hash\n",
    "\t-- Ignore localhost network activity\n",
    "\tWHERE --pnc.local_ip_addr<>pnc.remote_ip_addr\n",
    "  \t p.hostname = '{{hostname}}'\n",
    "  \tAND pnc.hostname = '{{hostname}}'\n",
    "\tGROUP BY ALL\n",
    ") pnc_inner\n",
    "ORDER BY hostname, time_chunk, tot_bytes DESC"
   ]
  },
  {
   "cell_type": "code",
   "execution_count": null,
   "metadata": {
    "colab": {
     "base_uri": "https://localhost:8080/",
     "height": 505
    },
    "id": "Elm1u74NxPHj",
    "outputId": "930308dc-699a-4e03-a0e8-6ef5ebe8cb1c"
   },
   "outputs": [],
   "source": [
    "alt.Chart(netuse_df).mark_bar().encode(\n",
    "    x='time_chunk',\n",
    "    y=alt.Y('tot_bytes'), #,scale=alt.Scale(type=\"symlog\")),\n",
    "    color='process_name',\n",
    "    tooltip=['process_name:N','tot_length:Q','tc_process_pct:Q','tc_rank_pos:Q','time_chunk:T']\n",
    ").properties(\n",
    "    title='Network Activity by Process',\n",
    "    width=1200,\n",
    "    height=400\n",
    ").interactive()"
   ]
  },
  {
   "cell_type": "code",
   "execution_count": null,
   "metadata": {
    "id": "JZOujcmO257B"
   },
   "outputs": [],
   "source": []
  }
 ],
 "metadata": {
  "colab": {
   "provenance": [],
   "toc_visible": true
  },
  "kernelspec": {
   "display_name": "Python 3 (ipykernel)",
   "language": "python",
   "name": "python3"
  },
  "language_info": {
   "codemirror_mode": {
    "name": "ipython",
    "version": 3
   },
   "file_extension": ".py",
   "mimetype": "text/x-python",
   "name": "python",
   "nbconvert_exporter": "python",
   "pygments_lexer": "ipython3",
   "version": "3.10.13"
  }
 },
 "nbformat": 4,
 "nbformat_minor": 4
}
