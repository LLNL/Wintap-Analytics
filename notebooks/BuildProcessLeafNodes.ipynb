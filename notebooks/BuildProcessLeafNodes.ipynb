{
 "cells": [
  {
   "cell_type": "markdown",
   "metadata": {},
   "source": [
    "# Process Leaf Node Features over Time\n",
    "Starting with process paths (process -> all parents), filter to only processes with no children in the current time window.\n",
    "With those, mark processes as \"started/active/term\" using the process_started and process_term fields."
   ]
  },
  {
   "cell_type": "code",
   "execution_count": 1,
   "metadata": {},
   "outputs": [],
   "source": [
    "# Import packages used in notebooks\n",
    "import duckdb\n",
    "import wintapgraph as wg\n",
    "import networkx as nx\n",
    "%load_ext magic_duckdb"
   ]
  },
  {
   "cell_type": "code",
   "execution_count": 2,
   "metadata": {},
   "outputs": [
    {
     "data": {
      "text/html": [
       "<div>\n",
       "<style scoped>\n",
       "    .dataframe tbody tr th:only-of-type {\n",
       "        vertical-align: middle;\n",
       "    }\n",
       "\n",
       "    .dataframe tbody tr th {\n",
       "        vertical-align: top;\n",
       "    }\n",
       "\n",
       "    .dataframe thead th {\n",
       "        text-align: right;\n",
       "    }\n",
       "</style>\n",
       "<table border=\"1\" class=\"dataframe\">\n",
       "  <thead>\n",
       "    <tr style=\"text-align: right;\">\n",
       "      <th></th>\n",
       "      <th>Count</th>\n",
       "    </tr>\n",
       "  </thead>\n",
       "  <tbody>\n",
       "  </tbody>\n",
       "</table>\n",
       "</div>"
      ],
      "text/plain": [
       "Empty DataFrame\n",
       "Columns: [Count]\n",
       "Index: []"
      ]
     },
     "execution_count": 2,
     "metadata": {},
     "output_type": "execute_result"
    }
   ],
   "source": [
    "# Initialize an in-memory db. Save reference in a variable and then set magic-duckdb environment. Result is ability to use the same DB instance from python code and %dql/%%dql magics.\n",
    "# Also create views for every top-level type found in the current dataset.\n",
    "con = duckdb.connect()\n",
    "%dql -co con\n",
    "# Display the list of tables/views\n",
    "%dql show tables\n",
    "# Only uses process table\n",
    "%dql create view process as from '/data/ACME-Redo/stdview-20231105-20231120/process.parquet'"
   ]
  },
  {
   "cell_type": "markdown",
   "metadata": {},
   "source": [
    "# Process Leaf Nodes in 5 minute windows"
   ]
  },
  {
   "cell_type": "code",
   "execution_count": null,
   "metadata": {},
   "outputs": [],
   "source": [
    "%dql summarize SELECT * FROM range(DATE '2023-11-05', DATE '2023-11-20', INTERVAL '5' MINUTES)"
   ]
  },
  {
   "cell_type": "code",
   "execution_count": null,
   "metadata": {},
   "outputs": [],
   "source": [
    "def get_sql(filename):\n",
    "    return f\"\"\"\n",
    "copy (\n",
    "SELECT \n",
    "  ? time_bucket_start,\n",
    "  ? time_bucket_end,\n",
    "    p.hostname, p.pid_hash, p.process_name, p.process_started, p.process_term,\n",
    "  if(p.process_started <= time_bucket_end and p.process_term >= time_bucket_start,1,0) active,\n",
    "  if(p.process_started between time_bucket_start and time_bucket_end,1,0) started,\n",
    "  if(p.process_term between time_bucket_start and time_bucket_end,1,0) term,\n",
    "from process p\n",
    "left outer join process c on p.pid_hash=c.parent_pid_hash \n",
    "where c.parent_pid_hash is null\n",
    "and (active=1 or started=1 or term=1)\n",
    ")\n",
    "to '{filename}' (FORMAT PARQUET)\n",
    "\"\"\"\n",
    "\n",
    "\n",
    "buckets = con.sql(\" SELECT range, range + interval '5 minutes' range_end FROM range(DATE '2023-11-05', DATE '2023-11-20', INTERVAL '5' MINUTES)\")\n",
    "cols=buckets.columns\n",
    "for row in buckets.fetchall():\n",
    "        start=row[cols.index(\"range\")]\n",
    "        end=row[cols.index(\"range_end\")]\n",
    "        print(f\"Start: {start}  End: {end}\")\n",
    "        epoch=start.strftime(\"%s\")\n",
    "        print(epoch)\n",
    "        filename=f\"data/raw/process_leaf_node_{epoch}.parquet\"\n",
    "        cur_bucket=con.execute(get_sql(filename), [start,end])"
   ]
  },
  {
   "cell_type": "code",
   "execution_count": null,
   "metadata": {},
   "outputs": [],
   "source": [
    "%dql create view process_leaf_nodes as from 'data/raw/*.parquet'\n",
    "%dql summarize process_leaf_nodes"
   ]
  },
  {
   "cell_type": "code",
   "execution_count": null,
   "metadata": {},
   "outputs": [],
   "source": [
    "df=%dql select started,active,term,count(*) from process_leaf_nodes group by all\n",
    "df"
   ]
  },
  {
   "cell_type": "code",
   "execution_count": null,
   "metadata": {},
   "outputs": [],
   "source": [
    "%dql copy (select * from process_leaf_nodes) to 'data/process_leaf_nodes.parquet' (format parquet)"
   ]
  },
  {
   "cell_type": "markdown",
   "metadata": {},
   "source": []
  }
 ],
 "metadata": {
  "kernelspec": {
   "display_name": "wintap-malware-support",
   "language": "python",
   "name": "python3"
  },
  "language_info": {
   "codemirror_mode": {
    "name": "ipython",
    "version": 3
   },
   "file_extension": ".py",
   "mimetype": "text/x-python",
   "name": "python",
   "nbconvert_exporter": "python",
   "pygments_lexer": "ipython3",
   "version": "3.11.9"
  }
 },
 "nbformat": 4,
 "nbformat_minor": 2
}
