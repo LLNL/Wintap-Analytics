{
 "cells": [
  {
   "cell_type": "markdown",
   "metadata": {},
   "source": [
    "# Exploring Wintap Data with Examples\n",
    "\n",
    "This is a notebook that shows example queries for interacting with wintap data that is in a prepared duckdb database format."
   ]
  },
  {
   "cell_type": "code",
   "execution_count": null,
   "metadata": {},
   "outputs": [],
   "source": [
    "## Initial Imports and setup\n",
    "\n",
    "import duckdb\n",
    "\n",
    "%load_ext magic_duckdb\n",
    "# replace 'ACME-workshop-20231109-20231111.db' with the name of a db file in the current directory or fully qualified reference\n",
    "conn = duckdb.connect('ACME-workshop-20231109-20231111.db')\n",
    "%dql -co conn"
   ]
  },
  {
   "cell_type": "code",
   "execution_count": null,
   "metadata": {},
   "outputs": [],
   "source": [
    "%dql show tables"
   ]
  }
 ],
 "metadata": {
  "kernelspec": {
   "display_name": "wintap-analytics-test-venv",
   "language": "python",
   "name": "python3"
  },
  "language_info": {
   "codemirror_mode": {
    "name": "ipython",
    "version": 3
   },
   "file_extension": ".py",
   "mimetype": "text/x-python",
   "name": "python",
   "nbconvert_exporter": "python",
   "pygments_lexer": "ipython3",
   "version": "3.11.4"
  }
 },
 "nbformat": 4,
 "nbformat_minor": 2
}
