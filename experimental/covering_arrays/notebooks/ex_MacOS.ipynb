{
 "cells": [
  {
   "cell_type": "code",
   "execution_count": 1,
   "metadata": {},
   "outputs": [],
   "source": [
    "import collections\n",
    "import sys\n",
    "sys.path.append('../src')\n",
    "\n",
    "import utils"
   ]
  },
  {
   "cell_type": "code",
   "execution_count": 2,
   "metadata": {},
   "outputs": [
    {
     "name": "stdout",
     "output_type": "stream",
     "text": [
      "   program                                              flags\n",
      "0   whoami    -UPN -FQDN -USER -GROUPS -ALL -PRIV -CLAIMS -FO\n",
      "1     curl   --compressed --digest --disable-eprt --disabl...\n",
      "2  netstat                      -A -B -f -l -m -n -p -q -v -s\n",
      "3       ls   -@ -A -B -C -D -F -G -H -I -L -O -P -R -S -T ...\n"
     ]
    }
   ],
   "source": [
    "df = utils.read_in_configs('../data/flags/MacOS.csv')\n",
    "print(df)"
   ]
  },
  {
   "cell_type": "code",
   "execution_count": 3,
   "metadata": {},
   "outputs": [
    {
     "name": "stdout",
     "output_type": "stream",
     "text": [
      "-@ -A -B -C -D -F -G -H -I -L -O -P -R -S -T -U -W -a -b -c -u -v -w -x -y -% -1\n"
     ]
    }
   ],
   "source": [
    "util = 'ls'\n",
    "flags = utils.get_util_flags(df, util)\n",
    "print(' '.join(flags))"
   ]
  },
  {
   "cell_type": "code",
   "execution_count": 4,
   "metadata": {},
   "outputs": [
    {
     "name": "stdout",
     "output_type": "stream",
     "text": [
      "ls -A -C -D -H -L -P -S -W -c -u -v -y -%\n"
     ]
    }
   ],
   "source": [
    "cmd = utils.sample_command(util, flags)\n",
    "print(cmd)"
   ]
  },
  {
   "cell_type": "code",
   "execution_count": 5,
   "metadata": {},
   "outputs": [
    {
     "ename": "FileNotFoundError",
     "evalue": "Covering array file 'ca.3.2^8.txt' not found.",
     "output_type": "error",
     "traceback": [
      "\u001b[0;31m---------------------------------------------------------------------------\u001b[0m",
      "\u001b[0;31mFileNotFoundError\u001b[0m                         Traceback (most recent call last)",
      "File \u001b[0;32m~/projects/thth/covering_array_fuzz/notebooks/../src/utils.py:86\u001b[0m, in \u001b[0;36mread_in_covering_array\u001b[0;34m(t, k, v, file_path)\u001b[0m\n\u001b[1;32m     85\u001b[0m \u001b[39mtry\u001b[39;00m:\n\u001b[0;32m---> 86\u001b[0m     \u001b[39mwith\u001b[39;00m \u001b[39mopen\u001b[39;49m(file_location, \u001b[39m\"\u001b[39;49m\u001b[39mr\u001b[39;49m\u001b[39m\"\u001b[39;49m) \u001b[39mas\u001b[39;00m f:\n\u001b[1;32m     87\u001b[0m         out \u001b[39m=\u001b[39m f\u001b[39m.\u001b[39mread()\u001b[39m.\u001b[39msplitlines()\n",
      "\u001b[0;31mFileNotFoundError\u001b[0m: [Errno 2] No such file or directory: './data/covering_arrays/ca.3.2^8.txt'",
      "\nDuring handling of the above exception, another exception occurred:\n",
      "\u001b[0;31mFileNotFoundError\u001b[0m                         Traceback (most recent call last)",
      "\u001b[1;32m/Users/bernstein8/projects/thth/covering_array_fuzz/notebooks/ex_MacOS.ipynb Cell 5\u001b[0m line \u001b[0;36m1\n\u001b[0;32m----> <a href='vscode-notebook-cell:/Users/bernstein8/projects/thth/covering_array_fuzz/notebooks/ex_MacOS.ipynb#W4sZmlsZQ%3D%3D?line=0'>1</a>\u001b[0m covering_array \u001b[39m=\u001b[39m utils\u001b[39m.\u001b[39;49mread_in_covering_array(t \u001b[39m=\u001b[39;49m \u001b[39m3\u001b[39;49m, k \u001b[39m=\u001b[39;49m \u001b[39m8\u001b[39;49m, v \u001b[39m=\u001b[39;49m \u001b[39m2\u001b[39;49m)\n\u001b[1;32m      <a href='vscode-notebook-cell:/Users/bernstein8/projects/thth/covering_array_fuzz/notebooks/ex_MacOS.ipynb#W4sZmlsZQ%3D%3D?line=1'>2</a>\u001b[0m covering_array[:\u001b[39m8\u001b[39m]\n",
      "File \u001b[0;32m~/projects/thth/covering_array_fuzz/notebooks/../src/utils.py:92\u001b[0m, in \u001b[0;36mread_in_covering_array\u001b[0;34m(t, k, v, file_path)\u001b[0m\n\u001b[1;32m     90\u001b[0m     \u001b[39mreturn\u001b[39;00m out\n\u001b[1;32m     91\u001b[0m \u001b[39mexcept\u001b[39;00m \u001b[39mFileNotFoundError\u001b[39;00m:\n\u001b[0;32m---> 92\u001b[0m     \u001b[39mraise\u001b[39;00m \u001b[39mFileNotFoundError\u001b[39;00m(\u001b[39mf\u001b[39m\u001b[39m\"\u001b[39m\u001b[39mCovering array file \u001b[39m\u001b[39m'\u001b[39m\u001b[39m{\u001b[39;00mfile_name\u001b[39m}\u001b[39;00m\u001b[39m'\u001b[39m\u001b[39m not found.\u001b[39m\u001b[39m\"\u001b[39m)\n\u001b[1;32m     93\u001b[0m \u001b[39mexcept\u001b[39;00m \u001b[39mIOError\u001b[39;00m:\n\u001b[1;32m     94\u001b[0m     \u001b[39mraise\u001b[39;00m \u001b[39mIOError\u001b[39;00m(\u001b[39mf\u001b[39m\u001b[39m\"\u001b[39m\u001b[39mError reading covering array file \u001b[39m\u001b[39m'\u001b[39m\u001b[39m{\u001b[39;00mfile_name\u001b[39m}\u001b[39;00m\u001b[39m'\u001b[39m\u001b[39m.\u001b[39m\u001b[39m\"\u001b[39m)\n",
      "\u001b[0;31mFileNotFoundError\u001b[0m: Covering array file 'ca.3.2^8.txt' not found."
     ]
    }
   ],
   "source": [
    "covering_array = utils.read_in_covering_array(t = 3, k = 8, v = 2)\n",
    "covering_array[:8]"
   ]
  },
  {
   "cell_type": "code",
   "execution_count": null,
   "metadata": {},
   "outputs": [],
   "source": [
    "random_commands = utils.sample_commands(n = 50, command_utility = util, command_flags = flags, prob = 0.5)\n",
    "print(collections.Counter(utils.fuzz(random_commands)))"
   ]
  },
  {
   "cell_type": "code",
   "execution_count": null,
   "metadata": {},
   "outputs": [],
   "source": [
    "ca_commands = utils.cover_array_commands(util = util, flags = flags, t = 3, v = 2)\n",
    "ca_commands[:6]"
   ]
  },
  {
   "cell_type": "code",
   "execution_count": null,
   "metadata": {},
   "outputs": [],
   "source": [
    "df_random = utils.fuzz(commands = random_commands)\n",
    "\n",
    "df_random.head(n = 5)"
   ]
  },
  {
   "cell_type": "code",
   "execution_count": null,
   "metadata": {},
   "outputs": [],
   "source": [
    "df_ca = utils.fuzz(commands = ca_commands)\n",
    "\n",
    "# TODO: save also t, k, v\n",
    "\n",
    "df_ca.head(n = 5)"
   ]
  },
  {
   "cell_type": "code",
   "execution_count": null,
   "metadata": {},
   "outputs": [],
   "source": [
    "collections.Counter(df_random.return_code)"
   ]
  },
  {
   "cell_type": "code",
   "execution_count": null,
   "metadata": {},
   "outputs": [],
   "source": [
    "collections.Counter(df_ca.return_code)"
   ]
  }
 ],
 "metadata": {
  "kernelspec": {
   "display_name": ".venv",
   "language": "python",
   "name": "python3"
  },
  "language_info": {
   "codemirror_mode": {
    "name": "ipython",
    "version": 3
   },
   "file_extension": ".py",
   "mimetype": "text/x-python",
   "name": "python",
   "nbconvert_exporter": "python",
   "pygments_lexer": "ipython3",
   "version": "3.11.8"
  },
  "orig_nbformat": 4
 },
 "nbformat": 4,
 "nbformat_minor": 2
}
