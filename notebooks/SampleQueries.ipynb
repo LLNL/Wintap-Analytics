{
 "cells": [
  {
   "cell_type": "markdown",
   "metadata": {},
   "source": [
    "# Exploring Wintap Data with Examples\n",
    "\n",
    "This is a notebook that shows example queries for interacting with wintap data that is in a prepared duckdb database format."
   ]
  }
 ],
 "metadata": {
  "language_info": {
   "name": "python"
  }
 },
 "nbformat": 4,
 "nbformat_minor": 2
}
