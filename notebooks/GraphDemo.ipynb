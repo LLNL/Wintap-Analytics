{
  "cells": [
    {
      "cell_type": "markdown",
      "metadata": {
        "id": "BRbwGeTBN_1m"
      },
      "source": [
        "# Build a graph with networkx and visualize with Matplotlib and Cytoscape\n",
        "\n",
        "Its pretty hacking to get the build environment together, but it works!\n",
        "\n",
        "Maybe write a little bash script to do the env setup and bootstrap with that?"
      ]
    },
    {
      "cell_type": "code",
      "execution_count": null,
      "metadata": {},
      "outputs": [],
      "source": [
        "IN_COLAB = True\n",
        "try:\n",
        "  import google.colab\n",
        "except:\n",
        "  IN_COLAB = False"
      ]
    },
    {
      "cell_type": "code",
      "execution_count": null,
      "metadata": {
        "colab": {
          "base_uri": "https://localhost:8080/"
        },
        "id": "TDrTXH8AsjZz",
        "outputId": "2e9a3bb3-efc5-4b71-d74b-3e950cbce45e"
      },
      "outputs": [],
      "source": [
        "!ls -l"
      ]
    },
    {
      "cell_type": "code",
      "execution_count": null,
      "metadata": {
        "colab": {
          "base_uri": "https://localhost:8080/"
        },
        "id": "TSl9DRRDqHaG",
        "outputId": "1aa0b531-df5f-4846-b401-32c69b6ce9bd"
      },
      "outputs": [],
      "source": [
        "if IN_COLAB:\n",
        "    !git clone https://github.com/LLNL/Wintap-Analytics.git\n",
        "    !ln -s  Wintap-Analytics/notebooks/wintapgraph.py .\n",
        "    from google.colab import output\n",
        "    output.enable_custom_widget_manager()"
      ]
    },
    {
      "cell_type": "code",
      "execution_count": null,
      "metadata": {
        "colab": {
          "base_uri": "https://localhost:8080/"
        },
        "id": "1-lQrxPDrBBL",
        "outputId": "0297b6a6-ca23-47a3-f10f-e7fb6c24a5d3"
      },
      "outputs": [],
      "source": [
        "!pip install magic-duckdb duckdb==0.10.1 networkx ipycytoscape ipywidgets matplotlib"
      ]
    },
    {
      "cell_type": "code",
      "execution_count": null,
      "metadata": {
        "colab": {
          "base_uri": "https://localhost:8080/"
        },
        "id": "ILUFLCKurgGn",
        "outputId": "234d5cb8-4bce-4b0d-8cfa-635d03751be1"
      },
      "outputs": [],
      "source": [
        "if IN_COLAB:\n",
        "  !gdown 1ELBBx3p2ngVSIyf7Neu0F50vd-qf9XDO\n",
        "else:\n",
        "  !curl -O https://gdo168.llnl.gov/data/workshop/ACME-workshop-20231109-20231111.db"
      ]
    },
    {
      "cell_type": "code",
      "execution_count": null,
      "metadata": {
        "id": "oJgFUeXpROWM"
      },
      "outputs": [],
      "source": [
        "# Import packages used in notebooks\n",
        "#from wintappy.datautils import rawutil as ru\n",
        "#from wintappy.datautils import stdview_duckdb as svd\n",
        "\n",
        "#import os\n",
        "#import altair as alt\n",
        "import duckdb\n",
        "import wintapgraph as wg\n",
        "import networkx as nx\n",
        "%load_ext magic_duckdb"
      ]
    },
    {
      "cell_type": "code",
      "execution_count": null,
      "metadata": {
        "colab": {
          "base_uri": "https://localhost:8080/",
          "height": 1000
        },
        "id": "UsTmNygMROWP",
        "outputId": "b05b0122-bab4-4a41-b841-eca2c1ea60d4"
      },
      "outputs": [],
      "source": [
        "# Initialize an in-memory db. Save reference in a variable and then set magic-duckdb environment. Result is ability to use the same DB instance from python code and %dql/%%dql magics.\n",
        "# Also create views for every top-level type found in the current dataset.\n",
        "con = duckdb.connect('ACME-workshop-20231109-20231111.db')\n",
        "%dql -co con\n",
        "# Display the list of tables/views\n",
        "%dql show tables"
      ]
    },
    {
      "cell_type": "code",
      "execution_count": null,
      "metadata": {
        "id": "8jKhOUMbOSO5"
      },
      "outputs": [],
      "source": [
        "style=[\n",
        "        {\n",
        "             'selector': 'node',\n",
        "             'style': {\n",
        "                 'font-family': 'helvetica',\n",
        "                 'font-size': '20px',\n",
        "                 'label': 'data(label)',\n",
        "                 'text-wrap':'wrap'\n",
        "             }\n",
        "        },\n",
        "        {\n",
        "             'selector': 'edge',\n",
        "             'style': {\n",
        "                 'font-family': 'helvetica',\n",
        "                 'font-size': '20px'\n",
        "             }\n",
        "        },\n",
        "               {\n",
        "             'selector': 'node[degree>0]',\n",
        "             'style': {\n",
        "                 'width': '100px',\n",
        "                 'height': '100px'\n",
        "             }\n",
        "        },\n",
        "        {\n",
        "             'selector': 'node[degree>1]',\n",
        "             'style': {\n",
        "                 'width': '150px',\n",
        "                 'height': '150px'\n",
        "             }\n",
        "        },\n",
        "        {\n",
        "             'selector': 'node[degree>2]',\n",
        "             'style': {\n",
        "                 'width': '100px',\n",
        "                 'height': '300px'\n",
        "             }\n",
        "        }\n",
        "\n",
        "    ]\n"
      ]
    },
    {
      "cell_type": "code",
      "execution_count": null,
      "metadata": {
        "colab": {
          "base_uri": "https://localhost:8080/",
          "height": 604,
          "referenced_widgets": [
            "729839bf616a41b3a6fc65a78ba89c04",
            "b3962e9847b94fd4a7f767ed96eb41e7",
            "6335268ab9af4530afee831ec8e4b152",
            "e7a98b55b9ab43269852a1f3efac6efc",
            "254fd01e8b664ad09d5149532b2672c8",
            "effd55b7110e4191b45b71e979729d54",
            "92a0000ba4204f28bb729bd9683a4dc7",
            "ff8552552e7349c88cca1f54a17f29ec",
            "bc1b133a69de45c493f2d82efcec8999",
            "4e9ea2e8549a48ac860bb7a430d11441",
            "fa8d9d74e3184a9fa94f154ad8a3e4ab",
            "fff5fd6b0c894ebb9b892fc11f531df2",
            "8458b91e9de14dba9f281afd15b9bcad",
            "6c7fef2ab3fb4b87adba5c87ab62eb0c",
            "b51937a5f39f4c1b9fa427734ced546b",
            "7b4a90111eff492da2785e1e44efa6d5",
            "9dfb3389622940578e2c68e4b45b265d",
            "82e018d2f175443f9163281fc72881dd",
            "5d1b40e29e7c47b7b1972f26c8331e5e",
            "a0044ee74f524889a937db9e80579dda",
            "5f8079ae8cb44faea3da678645ac9aad",
            "6fda1d14f751472a8af470a566151751",
            "ff1bb50d49244ca2ad38e854a971ee0d",
            "39301ec383224558ab13131b56d56d8c",
            "a238b6ff65bb4280bfc8027e9580639b",
            "387afb105746450a8b54dfa1ab972cf7",
            "453abd8d744042f7a8dbed087b59a0ad",
            "02de3f75b2a64c4e8d1f923e37c90cf3",
            "bb87b72dd3834aaebdce1e5e19d18791",
            "a5e53e653d414dbcaf548fa65c858594",
            "d1cd5feb959e45b0b7c0f346f5e3bda0",
            "8d031632704c4415ad300cf727b2fae8",
            "8f2e87fe777946559525b8bb07132762",
            "e58a0d4af7b94f43919ada3e3a9f5d34",
            "898f852cc8b24a8882ed062af922fa64",
            "ca490d9aaa304954ab5a17342f38c21d",
            "1cf1715422014124a7829eb8e597a31c",
            "0b52aadb976d44c0b5e0382c43ebfe0e",
            "1763a35f43794f1686ef7fb983b00af0",
            "7da3a1fd1b0b4b3f8c4b2a4bad351b55",
            "d1081d1d229241828839a52c14e28b93",
            "f2e3854276b2449e9ad6c0589b11dd89",
            "c3a755317a404122be4bc28d18610b94",
            "02801188c8bd4764b6a7a678431d3f54",
            "d3e6b1091fd845d88e5337db02605e0b",
            "734229495b0a481ca8c07b4003a7d762",
            "123ac6be66644183b78935632924e922",
            "9dca0d07c6a74dd980757a4202729024",
            "0045836adba4425fa5411f7ce842bb9c",
            "93f3f181a0b1409da0867b11106557a6",
            "6b002bc91cfe45ff944f68d912eec4a5",
            "164675a263e743088e35d5373220f5a1",
            "352342a2cbc742d5bd060f00907e9970",
            "37f2365871b74415ae98d0d2eefde354",
            "3386cfccd5bd4c3baad4af75e804c417",
            "f5d7efcf2c474a9aaa98edb0e3ef956b",
            "e6b1c929bef04cca908df7babdb01106",
            "28e8893e603544ada69858ad5494511c",
            "5164d5e64ad8413eba45ab89f09a4d1d",
            "20f18dd6552848bcbbd2a8eb8c028c5f",
            "2afb11ff203e4b82bada234a0c8af47a",
            "3636972f81e849169c3ef5782cd44439",
            "94fb9dcecec34909bbd332414e2a79ae",
            "d4b779d2198441c886d413fdf7f8f437",
            "801241b7ba854a4f8e073639798e9290",
            "57392d5280df4ba8984618123ad31ad9",
            "4f2eebe851e047cc978ad4767b4995e7",
            "e58de64a39e5447f8533df658be27715",
            "fc0a0075ebbe4f0d85578973d19b12de",
            "65cd66a9709046e19aa5e1933236df43",
            "b357cc650ca54de09e76d9f67b41f9ac",
            "9afcc6f1ec574a31955d02e5d295776d",
            "7c9aafd466e140a39fa9f6ee45687f65",
            "983cb66cc0714033beca200a62f15221",
            "04d98d24e5c74a57872b12c14e246b91",
            "437054bec6d243519d78672a53a727ea",
            "bd96ca3e66f946e58afcf538cbcb967c",
            "03ebfd4f7f9744ac86410469c54ead87",
            "d91fb4832a1c4337b08ff582750f933f",
            "ebc87f5767d04beaa8d59d87558d30ee",
            "165b03c020e94564b0c612c9c4787bdd",
            "7eaeef02b42a4feebd848bce34e51bd2",
            "65127dad86cc457994373d137c325ebc",
            "eb180ae911c44c70863fa9a4b0c0fcac",
            "400f6d53a6734923960ac61608478e75",
            "7c36a62b15364b8fad334f538230764e"
          ]
        },
        "id": "HqHXBCGBROWR",
        "outputId": "11f88332-e76c-46ea-dade-caf9128d9d74"
      },
      "outputs": [],
      "source": [
        "import ipycytoscape\n",
        "import ipywidgets as widgets\n",
        "import networkx as nx\n",
        "\n",
        "netg, seed_processes = wg.build_graph(con, [\"ssh.exe\",\"putty\"])\n",
        "undirected = ipycytoscape.CytoscapeWidget(cytoscape_layout={'name': 'breadthfirst'},cytoscape_style=style)\n",
        "undirected.graph.add_graph_from_networkx(netg)\n",
        "\n",
        "display(undirected)"
      ]
    },
    {
      "cell_type": "code",
      "execution_count": null,
      "metadata": {
        "colab": {
          "base_uri": "https://localhost:8080/",
          "height": 1000
        },
        "id": "Ape_apnxROWR",
        "outputId": "1ecaafe2-7875-4a5f-9521-4581a5b87fba"
      },
      "outputs": [],
      "source": [
        "from matplotlib import pyplot as plt\n",
        "print('Drawing graph')\n",
        "# Labels\n",
        "label_dict = {n: netg.nodes()[n]['label'] for n in netg.nodes}\n",
        "# Colors\n",
        "# TODO add support for colors based on attributes in the graph.\n",
        "#cmap = matplotlib.colors.ListedColormap(['dodgerblue', 'lightgray', 'darkorange'])\n",
        "node_types_map = {'Root': 0, 'Parent': 1, 'Seed': 2}\n",
        "\n",
        "plt.figure(figsize=(20, 14))\n",
        "# Kamada Kawai produces reasonable layouts and they are consistent. Spring has randomness which is annoying for repeatability.\n",
        "nx.draw_kamada_kawai(netg, with_labels=True, labels=label_dict) #,node_color=node_types,cmap=cmap)\n"
      ]
    },
    {
      "cell_type": "markdown",
      "metadata": {
        "id": "Sdhx1So-sy9G"
      },
      "source": [
        "Support for third party widgets will remain active for the duration of the session. To disable support:"
      ]
    },
    {
      "cell_type": "code",
      "execution_count": null,
      "metadata": {
        "id": "sTdakkXqsy9I"
      },
      "outputs": [],
      "source": [
        "# Only use this if you want to disable 3rd party widgets\n",
        "if False:\n",
        "  from google.colab import output\n",
        "  output.disable_custom_widget_manager()"
      ]
    },
    {
      "cell_type": "code",
      "execution_count": null,
      "metadata": {
        "id": "uLC1BGvEROWS"
      },
      "outputs": [],
      "source": []
    }
  ],
  "metadata": {
    "colab": {
      "provenance": []
    },
    "kernelspec": {
      "display_name": "wintappy-dev",
      "language": "python",
      "name": "python3"
    },
    "language_info": {
      "codemirror_mode": {
        "name": "ipython",
        "version": 3
      },
      "file_extension": ".py",
      "mimetype": "text/x-python",
      "name": "python",
      "nbconvert_exporter": "python",
      "pygments_lexer": "ipython3",
      "version": "3.10.13"
    },
    "widgets": {
      "application/vnd.jupyter.widget-state+json": {
        "0045836adba4425fa5411f7ce842bb9c": {
          "model_module": "jupyter-cytoscape",
          "model_module_version": "^1.3.3",
          "model_name": "EdgeModel",
          "state": {
            "_model_module": "jupyter-cytoscape",
            "_model_module_version": "^1.3.3",
            "_model_name": "EdgeModel",
            "_view_count": null,
            "_view_module": "jupyter-cytoscape",
            "_view_module_version": "^1.3.3",
            "_view_name": "EdgeView",
            "classes": "",
            "data": {
              "source": "5A0AF3E78C16A0F2FC6A8F65D8DA19EF",
              "target": "5CA453C013427A9685756A4371E7198B",
              "type": "parent"
            },
            "pannable": true,
            "removed": false,
            "selectable": false,
            "selected": false
          }
        },
        "02801188c8bd4764b6a7a678431d3f54": {
          "model_module": "jupyter-cytoscape",
          "model_module_version": "^1.3.3",
          "model_name": "EdgeModel",
          "state": {
            "_model_module": "jupyter-cytoscape",
            "_model_module_version": "^1.3.3",
            "_model_name": "EdgeModel",
            "_view_count": null,
            "_view_module": "jupyter-cytoscape",
            "_view_module_version": "^1.3.3",
            "_view_name": "EdgeView",
            "classes": "",
            "data": {
              "source": "FC81B9A1AA4FA9A1C3B41C8A2B51C3F1",
              "target": "C7F2E17B8172DCB87CECE5CED1241EFD",
              "type": "parent"
            },
            "pannable": true,
            "removed": false,
            "selectable": false,
            "selected": false
          }
        },
        "02de3f75b2a64c4e8d1f923e37c90cf3": {
          "model_module": "jupyter-cytoscape",
          "model_module_version": "^1.3.3",
          "model_name": "EdgeModel",
          "state": {
            "_model_module": "jupyter-cytoscape",
            "_model_module_version": "^1.3.3",
            "_model_name": "EdgeModel",
            "_view_count": null,
            "_view_module": "jupyter-cytoscape",
            "_view_module_version": "^1.3.3",
            "_view_name": "EdgeView",
            "classes": "",
            "data": {
              "source": "172.31.38.134",
              "target": "7B132093D693E64A5261C25CD09957AF"
            },
            "pannable": true,
            "removed": false,
            "selectable": false,
            "selected": false
          }
        },
        "03ebfd4f7f9744ac86410469c54ead87": {
          "model_module": "jupyter-cytoscape",
          "model_module_version": "^1.3.3",
          "model_name": "NodeModel",
          "state": {
            "_model_module": "jupyter-cytoscape",
            "_model_module_version": "^1.3.3",
            "_model_name": "NodeModel",
            "_view_count": null,
            "_view_module": "jupyter-cytoscape",
            "_view_module_version": "^1.3.3",
            "_view_name": "NodeView",
            "classes": "",
            "data": {
              "id": "FC81B9A1AA4FA9A1C3B41C8A2B51C3F1",
              "label": "winlogon.exe\n (4532)",
              "type": "process"
            },
            "grabbable": true,
            "grabbed": false,
            "locked": false,
            "pannable": false,
            "position": {},
            "removed": false,
            "selectable": false,
            "selected": false
          }
        },
        "04d98d24e5c74a57872b12c14e246b91": {
          "model_module": "jupyter-cytoscape",
          "model_module_version": "^1.3.3",
          "model_name": "NodeModel",
          "state": {
            "_model_module": "jupyter-cytoscape",
            "_model_module_version": "^1.3.3",
            "_model_name": "NodeModel",
            "_view_count": null,
            "_view_module": "jupyter-cytoscape",
            "_view_module_version": "^1.3.3",
            "_view_name": "NodeView",
            "classes": "",
            "data": {
              "id": "7B132093D693E64A5261C25CD09957AF",
              "label": "172.31.38.134->172.31.4.149",
              "type": "pnc"
            },
            "grabbable": true,
            "grabbed": false,
            "locked": false,
            "pannable": false,
            "position": {},
            "removed": false,
            "selectable": false,
            "selected": false
          }
        },
        "0b52aadb976d44c0b5e0382c43ebfe0e": {
          "model_module": "jupyter-cytoscape",
          "model_module_version": "^1.3.3",
          "model_name": "EdgeModel",
          "state": {
            "_model_module": "jupyter-cytoscape",
            "_model_module_version": "^1.3.3",
            "_model_name": "EdgeModel",
            "_view_count": null,
            "_view_module": "jupyter-cytoscape",
            "_view_module_version": "^1.3.3",
            "_view_name": "EdgeView",
            "classes": "",
            "data": {
              "source": "172.31.34.133",
              "target": "675A509DE62DCF059760AD73E7CB1603"
            },
            "pannable": true,
            "removed": false,
            "selectable": false,
            "selected": false
          }
        },
        "123ac6be66644183b78935632924e922": {
          "model_module": "jupyter-cytoscape",
          "model_module_version": "^1.3.3",
          "model_name": "EdgeModel",
          "state": {
            "_model_module": "jupyter-cytoscape",
            "_model_module_version": "^1.3.3",
            "_model_name": "EdgeModel",
            "_view_count": null,
            "_view_module": "jupyter-cytoscape",
            "_view_module_version": "^1.3.3",
            "_view_name": "EdgeView",
            "classes": "",
            "data": {
              "source": "6735B8F4B9DF6C05AB8F566436DF06AB",
              "target": "699A70CB21541E3EDB64F5A4F7E81B5B",
              "type": "parent"
            },
            "pannable": true,
            "removed": false,
            "selectable": false,
            "selected": false
          }
        },
        "164675a263e743088e35d5373220f5a1": {
          "model_module": "jupyter-cytoscape",
          "model_module_version": "^1.3.3",
          "model_name": "NodeModel",
          "state": {
            "_model_module": "jupyter-cytoscape",
            "_model_module_version": "^1.3.3",
            "_model_name": "NodeModel",
            "_view_count": null,
            "_view_module": "jupyter-cytoscape",
            "_view_module_version": "^1.3.3",
            "_view_name": "NodeView",
            "classes": "",
            "data": {
              "id": "97C4502FA4E58E51AA7A3E767AE7CC5A",
              "label": "ssh.exe\n (3420)",
              "type": "process"
            },
            "grabbable": true,
            "grabbed": false,
            "locked": false,
            "pannable": false,
            "position": {},
            "removed": false,
            "selectable": false,
            "selected": false
          }
        },
        "165b03c020e94564b0c612c9c4787bdd": {
          "model_module": "jupyter-cytoscape",
          "model_module_version": "^1.3.3",
          "model_name": "NodeModel",
          "state": {
            "_model_module": "jupyter-cytoscape",
            "_model_module_version": "^1.3.3",
            "_model_name": "NodeModel",
            "_view_count": null,
            "_view_module": "jupyter-cytoscape",
            "_view_module_version": "^1.3.3",
            "_view_name": "NodeView",
            "classes": "",
            "data": {
              "id": "6735B8F4B9DF6C05AB8F566436DF06AB",
              "label": "powershell.exe\n (8404)",
              "type": "process"
            },
            "grabbable": true,
            "grabbed": false,
            "locked": false,
            "pannable": false,
            "position": {},
            "removed": false,
            "selectable": false,
            "selected": false
          }
        },
        "1763a35f43794f1686ef7fb983b00af0": {
          "model_module": "jupyter-cytoscape",
          "model_module_version": "^1.3.3",
          "model_name": "EdgeModel",
          "state": {
            "_model_module": "jupyter-cytoscape",
            "_model_module_version": "^1.3.3",
            "_model_name": "EdgeModel",
            "_view_count": null,
            "_view_module": "jupyter-cytoscape",
            "_view_module_version": "^1.3.3",
            "_view_name": "EdgeView",
            "classes": "",
            "data": {
              "source": "172.31.34.133",
              "target": "64BC18CFED4EA223DC1F3246E2F57876"
            },
            "pannable": true,
            "removed": false,
            "selectable": false,
            "selected": false
          }
        },
        "1cf1715422014124a7829eb8e597a31c": {
          "model_module": "jupyter-cytoscape",
          "model_module_version": "^1.3.3",
          "model_name": "EdgeModel",
          "state": {
            "_model_module": "jupyter-cytoscape",
            "_model_module_version": "^1.3.3",
            "_model_name": "EdgeModel",
            "_view_count": null,
            "_view_module": "jupyter-cytoscape",
            "_view_module_version": "^1.3.3",
            "_view_name": "EdgeView",
            "classes": "",
            "data": {
              "source": "172.31.34.133",
              "target": "F6A1A412FE8988B22F0CD1295B7117C0"
            },
            "pannable": true,
            "removed": false,
            "selectable": false,
            "selected": false
          }
        },
        "20f18dd6552848bcbbd2a8eb8c028c5f": {
          "model_module": "jupyter-cytoscape",
          "model_module_version": "^1.3.3",
          "model_name": "NodeModel",
          "state": {
            "_model_module": "jupyter-cytoscape",
            "_model_module_version": "^1.3.3",
            "_model_name": "NodeModel",
            "_view_count": null,
            "_view_module": "jupyter-cytoscape",
            "_view_module_version": "^1.3.3",
            "_view_name": "NodeView",
            "classes": "",
            "data": {
              "id": "B8C49B7460C44196600062B21AE026B9",
              "label": "172.31.38.134->172.31.4.149",
              "type": "pnc"
            },
            "grabbable": true,
            "grabbed": false,
            "locked": false,
            "pannable": false,
            "position": {},
            "removed": false,
            "selectable": false,
            "selected": false
          }
        },
        "254fd01e8b664ad09d5149532b2672c8": {
          "model_module": "jupyter-cytoscape",
          "model_module_version": "^1.3.3",
          "model_name": "EdgeModel",
          "state": {
            "_model_module": "jupyter-cytoscape",
            "_model_module_version": "^1.3.3",
            "_model_name": "EdgeModel",
            "_view_count": null,
            "_view_module": "jupyter-cytoscape",
            "_view_module_version": "^1.3.3",
            "_view_name": "EdgeView",
            "classes": "",
            "data": {
              "source": "97C4502FA4E58E51AA7A3E767AE7CC5A",
              "target": "6735B8F4B9DF6C05AB8F566436DF06AB",
              "type": "parent"
            },
            "pannable": true,
            "removed": false,
            "selectable": false,
            "selected": false
          }
        },
        "28e8893e603544ada69858ad5494511c": {
          "model_module": "jupyter-cytoscape",
          "model_module_version": "^1.3.3",
          "model_name": "NodeModel",
          "state": {
            "_model_module": "jupyter-cytoscape",
            "_model_module_version": "^1.3.3",
            "_model_name": "NodeModel",
            "_view_count": null,
            "_view_module": "jupyter-cytoscape",
            "_view_module_version": "^1.3.3",
            "_view_name": "NodeView",
            "classes": "",
            "data": {
              "id": "6FB3F996556FA23047EC17D63474DBC6",
              "label": "puttyy.exe\n (8372)",
              "type": "process"
            },
            "grabbable": true,
            "grabbed": false,
            "locked": false,
            "pannable": false,
            "position": {},
            "removed": false,
            "selectable": false,
            "selected": false
          }
        },
        "2afb11ff203e4b82bada234a0c8af47a": {
          "model_module": "jupyter-cytoscape",
          "model_module_version": "^1.3.3",
          "model_name": "NodeModel",
          "state": {
            "_model_module": "jupyter-cytoscape",
            "_model_module_version": "^1.3.3",
            "_model_name": "NodeModel",
            "_view_count": null,
            "_view_module": "jupyter-cytoscape",
            "_view_module_version": "^1.3.3",
            "_view_name": "NodeView",
            "classes": "",
            "data": {
              "id": "172.31.38.134",
              "label": "172.31.38.134",
              "type": "ip"
            },
            "grabbable": true,
            "grabbed": false,
            "locked": false,
            "pannable": false,
            "position": {},
            "removed": false,
            "selectable": false,
            "selected": false
          }
        },
        "3386cfccd5bd4c3baad4af75e804c417": {
          "model_module": "jupyter-cytoscape",
          "model_module_version": "^1.3.3",
          "model_name": "NodeModel",
          "state": {
            "_model_module": "jupyter-cytoscape",
            "_model_module_version": "^1.3.3",
            "_model_name": "NodeModel",
            "_view_count": null,
            "_view_module": "jupyter-cytoscape",
            "_view_module_version": "^1.3.3",
            "_view_name": "NodeView",
            "classes": "",
            "data": {
              "id": "A9C4E044578872BF6DCA3599F236A620",
              "label": "ssh.exe\n (7880)",
              "type": "process"
            },
            "grabbable": true,
            "grabbed": false,
            "locked": false,
            "pannable": false,
            "position": {},
            "removed": false,
            "selectable": false,
            "selected": false
          }
        },
        "352342a2cbc742d5bd060f00907e9970": {
          "model_module": "jupyter-cytoscape",
          "model_module_version": "^1.3.3",
          "model_name": "NodeModel",
          "state": {
            "_model_module": "jupyter-cytoscape",
            "_model_module_version": "^1.3.3",
            "_model_name": "NodeModel",
            "_view_count": null,
            "_view_module": "jupyter-cytoscape",
            "_view_module_version": "^1.3.3",
            "_view_name": "NodeView",
            "classes": "",
            "data": {
              "id": "E27DE772BA8B13C58FD3E671B3538CA2",
              "label": "puttyy.exe\n (8460)",
              "type": "process"
            },
            "grabbable": true,
            "grabbed": false,
            "locked": false,
            "pannable": false,
            "position": {},
            "removed": false,
            "selectable": false,
            "selected": false
          }
        },
        "3636972f81e849169c3ef5782cd44439": {
          "model_module": "jupyter-cytoscape",
          "model_module_version": "^1.3.3",
          "model_name": "NodeModel",
          "state": {
            "_model_module": "jupyter-cytoscape",
            "_model_module_version": "^1.3.3",
            "_model_name": "NodeModel",
            "_view_count": null,
            "_view_module": "jupyter-cytoscape",
            "_view_module_version": "^1.3.3",
            "_view_name": "NodeView",
            "classes": "",
            "data": {
              "id": "172.31.4.149",
              "label": "172.31.4.149",
              "type": "ip"
            },
            "grabbable": true,
            "grabbed": false,
            "locked": false,
            "pannable": false,
            "position": {},
            "removed": false,
            "selectable": false,
            "selected": false
          }
        },
        "37f2365871b74415ae98d0d2eefde354": {
          "model_module": "jupyter-cytoscape",
          "model_module_version": "^1.3.3",
          "model_name": "NodeModel",
          "state": {
            "_model_module": "jupyter-cytoscape",
            "_model_module_version": "^1.3.3",
            "_model_name": "NodeModel",
            "_view_count": null,
            "_view_module": "jupyter-cytoscape",
            "_view_module_version": "^1.3.3",
            "_view_name": "NodeView",
            "classes": "",
            "data": {
              "id": "61AD9E9F2C107B72B90ECB3D5051C1C9",
              "label": "puttyy.exe\n (8656)",
              "type": "process"
            },
            "grabbable": true,
            "grabbed": false,
            "locked": false,
            "pannable": false,
            "position": {},
            "removed": false,
            "selectable": false,
            "selected": false
          }
        },
        "387afb105746450a8b54dfa1ab972cf7": {
          "model_module": "jupyter-cytoscape",
          "model_module_version": "^1.3.3",
          "model_name": "EdgeModel",
          "state": {
            "_model_module": "jupyter-cytoscape",
            "_model_module_version": "^1.3.3",
            "_model_name": "EdgeModel",
            "_view_count": null,
            "_view_module": "jupyter-cytoscape",
            "_view_module_version": "^1.3.3",
            "_view_name": "EdgeView",
            "classes": "",
            "data": {
              "source": "172.31.38.134",
              "target": "4B7F2FC3B756CE0683307BE24B54EDC4"
            },
            "pannable": true,
            "removed": false,
            "selectable": false,
            "selected": false
          }
        },
        "39301ec383224558ab13131b56d56d8c": {
          "model_module": "jupyter-cytoscape",
          "model_module_version": "^1.3.3",
          "model_name": "EdgeModel",
          "state": {
            "_model_module": "jupyter-cytoscape",
            "_model_module_version": "^1.3.3",
            "_model_name": "EdgeModel",
            "_view_count": null,
            "_view_module": "jupyter-cytoscape",
            "_view_module_version": "^1.3.3",
            "_view_name": "EdgeView",
            "classes": "",
            "data": {
              "source": "172.31.38.134",
              "target": "EE5CB9E4A5EF3C2FB876068E25BA6435"
            },
            "pannable": true,
            "removed": false,
            "selectable": false,
            "selected": false
          }
        },
        "400f6d53a6734923960ac61608478e75": {
          "model_module": "jupyter-cytoscape",
          "model_module_version": "^1.3.3",
          "model_name": "NodeModel",
          "state": {
            "_model_module": "jupyter-cytoscape",
            "_model_module_version": "^1.3.3",
            "_model_name": "NodeModel",
            "_view_count": null,
            "_view_module": "jupyter-cytoscape",
            "_view_module_version": "^1.3.3",
            "_view_name": "NodeView",
            "classes": "",
            "data": {
              "id": "527A388646D31465F648AA4878718329",
              "label": "smss.exe\n (388)",
              "type": "process"
            },
            "grabbable": true,
            "grabbed": false,
            "locked": false,
            "pannable": false,
            "position": {},
            "removed": false,
            "selectable": false,
            "selected": false
          }
        },
        "437054bec6d243519d78672a53a727ea": {
          "model_module": "jupyter-cytoscape",
          "model_module_version": "^1.3.3",
          "model_name": "NodeModel",
          "state": {
            "_model_module": "jupyter-cytoscape",
            "_model_module_version": "^1.3.3",
            "_model_name": "NodeModel",
            "_view_count": null,
            "_view_module": "jupyter-cytoscape",
            "_view_module_version": "^1.3.3",
            "_view_name": "NodeView",
            "classes": "",
            "data": {
              "id": "D3D0E1B273CA23A5DB510E7E38A68BDB",
              "label": "explorer.exe\n (8724)",
              "type": "process"
            },
            "grabbable": true,
            "grabbed": false,
            "locked": false,
            "pannable": false,
            "position": {},
            "removed": false,
            "selectable": false,
            "selected": false
          }
        },
        "453abd8d744042f7a8dbed087b59a0ad": {
          "model_module": "jupyter-cytoscape",
          "model_module_version": "^1.3.3",
          "model_name": "EdgeModel",
          "state": {
            "_model_module": "jupyter-cytoscape",
            "_model_module_version": "^1.3.3",
            "_model_name": "EdgeModel",
            "_view_count": null,
            "_view_module": "jupyter-cytoscape",
            "_view_module_version": "^1.3.3",
            "_view_name": "EdgeView",
            "classes": "",
            "data": {
              "source": "172.31.38.134",
              "target": "B1A8E16E781D610C51AD3C2CD8FF6A26"
            },
            "pannable": true,
            "removed": false,
            "selectable": false,
            "selected": false
          }
        },
        "4e9ea2e8549a48ac860bb7a430d11441": {
          "model_module": "jupyter-cytoscape",
          "model_module_version": "^1.3.3",
          "model_name": "EdgeModel",
          "state": {
            "_model_module": "jupyter-cytoscape",
            "_model_module_version": "^1.3.3",
            "_model_name": "EdgeModel",
            "_view_count": null,
            "_view_module": "jupyter-cytoscape",
            "_view_module_version": "^1.3.3",
            "_view_name": "EdgeView",
            "classes": "",
            "data": {
              "source": "61AD9E9F2C107B72B90ECB3D5051C1C9",
              "target": "D3D0E1B273CA23A5DB510E7E38A68BDB",
              "type": "parent"
            },
            "pannable": true,
            "removed": false,
            "selectable": false,
            "selected": false
          }
        },
        "4f2eebe851e047cc978ad4767b4995e7": {
          "model_module": "jupyter-cytoscape",
          "model_module_version": "^1.3.3",
          "model_name": "NodeModel",
          "state": {
            "_model_module": "jupyter-cytoscape",
            "_model_module_version": "^1.3.3",
            "_model_name": "NodeModel",
            "_view_count": null,
            "_view_module": "jupyter-cytoscape",
            "_view_module_version": "^1.3.3",
            "_view_name": "NodeView",
            "classes": "",
            "data": {
              "id": "2569BFD8CDBC38C19EBC274F2DB4D6F8",
              "label": "172.31.38.134->172.31.4.149",
              "type": "pnc"
            },
            "grabbable": true,
            "grabbed": false,
            "locked": false,
            "pannable": false,
            "position": {},
            "removed": false,
            "selectable": false,
            "selected": false
          }
        },
        "5164d5e64ad8413eba45ab89f09a4d1d": {
          "model_module": "jupyter-cytoscape",
          "model_module_version": "^1.3.3",
          "model_name": "NodeModel",
          "state": {
            "_model_module": "jupyter-cytoscape",
            "_model_module_version": "^1.3.3",
            "_model_name": "NodeModel",
            "_view_count": null,
            "_view_module": "jupyter-cytoscape",
            "_view_module_version": "^1.3.3",
            "_view_name": "NodeView",
            "classes": "",
            "data": {
              "id": "E396785B4474AFA8AD55EB2C6669D9E8",
              "label": "ssh.exe\n (8952)",
              "type": "process"
            },
            "grabbable": true,
            "grabbed": false,
            "locked": false,
            "pannable": false,
            "position": {},
            "removed": false,
            "selectable": false,
            "selected": false
          }
        },
        "57392d5280df4ba8984618123ad31ad9": {
          "model_module": "jupyter-cytoscape",
          "model_module_version": "^1.3.3",
          "model_name": "NodeModel",
          "state": {
            "_model_module": "jupyter-cytoscape",
            "_model_module_version": "^1.3.3",
            "_model_name": "NodeModel",
            "_view_count": null,
            "_view_module": "jupyter-cytoscape",
            "_view_module_version": "^1.3.3",
            "_view_name": "NodeView",
            "classes": "",
            "data": {
              "id": "EE5CB9E4A5EF3C2FB876068E25BA6435",
              "label": "172.31.38.134->172.31.4.149",
              "type": "pnc"
            },
            "grabbable": true,
            "grabbed": false,
            "locked": false,
            "pannable": false,
            "position": {},
            "removed": false,
            "selectable": false,
            "selected": false
          }
        },
        "5d1b40e29e7c47b7b1972f26c8331e5e": {
          "model_module": "jupyter-cytoscape",
          "model_module_version": "^1.3.3",
          "model_name": "EdgeModel",
          "state": {
            "_model_module": "jupyter-cytoscape",
            "_model_module_version": "^1.3.3",
            "_model_name": "EdgeModel",
            "_view_count": null,
            "_view_module": "jupyter-cytoscape",
            "_view_module_version": "^1.3.3",
            "_view_name": "EdgeView",
            "classes": "",
            "data": {
              "source": "6FB3F996556FA23047EC17D63474DBC6",
              "target": "D3D0E1B273CA23A5DB510E7E38A68BDB",
              "type": "parent"
            },
            "pannable": true,
            "removed": false,
            "selectable": false,
            "selected": false
          }
        },
        "5f8079ae8cb44faea3da678645ac9aad": {
          "model_module": "jupyter-cytoscape",
          "model_module_version": "^1.3.3",
          "model_name": "EdgeModel",
          "state": {
            "_model_module": "jupyter-cytoscape",
            "_model_module_version": "^1.3.3",
            "_model_name": "EdgeModel",
            "_view_count": null,
            "_view_module": "jupyter-cytoscape",
            "_view_module_version": "^1.3.3",
            "_view_name": "EdgeView",
            "classes": "",
            "data": {
              "source": "E396785B4474AFA8AD55EB2C6669D9E8",
              "target": "6735B8F4B9DF6C05AB8F566436DF06AB",
              "type": "parent"
            },
            "pannable": true,
            "removed": false,
            "selectable": false,
            "selected": false
          }
        },
        "6335268ab9af4530afee831ec8e4b152": {
          "model_module": "@jupyter-widgets/base",
          "model_module_version": "1.2.0",
          "model_name": "LayoutModel",
          "state": {
            "_model_module": "@jupyter-widgets/base",
            "_model_module_version": "1.2.0",
            "_model_name": "LayoutModel",
            "_view_count": null,
            "_view_module": "@jupyter-widgets/base",
            "_view_module_version": "1.2.0",
            "_view_name": "LayoutView",
            "align_content": null,
            "align_items": null,
            "align_self": null,
            "border": null,
            "bottom": null,
            "display": null,
            "flex": null,
            "flex_flow": null,
            "grid_area": null,
            "grid_auto_columns": null,
            "grid_auto_flow": null,
            "grid_auto_rows": null,
            "grid_column": null,
            "grid_gap": null,
            "grid_row": null,
            "grid_template_areas": null,
            "grid_template_columns": null,
            "grid_template_rows": null,
            "height": null,
            "justify_content": null,
            "justify_items": null,
            "left": null,
            "margin": null,
            "max_height": null,
            "max_width": null,
            "min_height": null,
            "min_width": null,
            "object_fit": null,
            "object_position": null,
            "order": null,
            "overflow": null,
            "overflow_x": null,
            "overflow_y": null,
            "padding": null,
            "right": null,
            "top": null,
            "visibility": null,
            "width": null
          }
        },
        "65127dad86cc457994373d137c325ebc": {
          "model_module": "jupyter-cytoscape",
          "model_module_version": "^1.3.3",
          "model_name": "NodeModel",
          "state": {
            "_model_module": "jupyter-cytoscape",
            "_model_module_version": "^1.3.3",
            "_model_name": "NodeModel",
            "_view_count": null,
            "_view_module": "jupyter-cytoscape",
            "_view_module_version": "^1.3.3",
            "_view_name": "NodeView",
            "classes": "",
            "data": {
              "id": "5A0AF3E78C16A0F2FC6A8F65D8DA19EF",
              "label": "userinit.exe\n (6700)",
              "type": "process"
            },
            "grabbable": true,
            "grabbed": false,
            "locked": false,
            "pannable": false,
            "position": {},
            "removed": false,
            "selectable": false,
            "selected": false
          }
        },
        "65cd66a9709046e19aa5e1933236df43": {
          "model_module": "jupyter-cytoscape",
          "model_module_version": "^1.3.3",
          "model_name": "NodeModel",
          "state": {
            "_model_module": "jupyter-cytoscape",
            "_model_module_version": "^1.3.3",
            "_model_name": "NodeModel",
            "_view_count": null,
            "_view_module": "jupyter-cytoscape",
            "_view_module_version": "^1.3.3",
            "_view_name": "NodeView",
            "classes": "",
            "data": {
              "id": "64BC18CFED4EA223DC1F3246E2F57876",
              "label": "172.31.37.19->172.31.34.133",
              "type": "pnc"
            },
            "grabbable": true,
            "grabbed": false,
            "locked": false,
            "pannable": false,
            "position": {},
            "removed": false,
            "selectable": false,
            "selected": false
          }
        },
        "6b002bc91cfe45ff944f68d912eec4a5": {
          "model_module": "jupyter-cytoscape",
          "model_module_version": "^1.3.3",
          "model_name": "EdgeModel",
          "state": {
            "_model_module": "jupyter-cytoscape",
            "_model_module_version": "^1.3.3",
            "_model_name": "EdgeModel",
            "_view_count": null,
            "_view_module": "jupyter-cytoscape",
            "_view_module_version": "^1.3.3",
            "_view_name": "EdgeView",
            "classes": "",
            "data": {
              "source": "3FC146B94474A083174C6864A24E64D0",
              "target": "3FC146B94474A083174C6864A24E64D0",
              "type": "parent"
            },
            "pannable": true,
            "removed": false,
            "selectable": false,
            "selected": false
          }
        },
        "6c7fef2ab3fb4b87adba5c87ab62eb0c": {
          "model_module": "jupyter-cytoscape",
          "model_module_version": "^1.3.3",
          "model_name": "EdgeModel",
          "state": {
            "_model_module": "jupyter-cytoscape",
            "_model_module_version": "^1.3.3",
            "_model_name": "EdgeModel",
            "_view_count": null,
            "_view_module": "jupyter-cytoscape",
            "_view_module_version": "^1.3.3",
            "_view_name": "EdgeView",
            "classes": "",
            "data": {
              "source": "664DA04AA880D2FD3FDD82B4BE2CF864",
              "target": "6735B8F4B9DF6C05AB8F566436DF06AB",
              "type": "parent"
            },
            "pannable": true,
            "removed": false,
            "selectable": false,
            "selected": false
          }
        },
        "6fda1d14f751472a8af470a566151751": {
          "model_module": "jupyter-cytoscape",
          "model_module_version": "^1.3.3",
          "model_name": "EdgeModel",
          "state": {
            "_model_module": "jupyter-cytoscape",
            "_model_module_version": "^1.3.3",
            "_model_name": "EdgeModel",
            "_view_count": null,
            "_view_module": "jupyter-cytoscape",
            "_view_module_version": "^1.3.3",
            "_view_name": "EdgeView",
            "classes": "",
            "data": {
              "source": "B8C49B7460C44196600062B21AE026B9",
              "target": "172.31.38.134"
            },
            "pannable": true,
            "removed": false,
            "selectable": false,
            "selected": false
          }
        },
        "729839bf616a41b3a6fc65a78ba89c04": {
          "model_module": "jupyter-cytoscape",
          "model_module_version": "^1.3.3",
          "model_name": "CytoscapeModel",
          "state": {
            "_dom_classes": [],
            "_interaction_handlers": {},
            "_model_module": "jupyter-cytoscape",
            "_model_module_version": "^1.3.3",
            "_model_name": "CytoscapeModel",
            "_view_count": null,
            "_view_module": "jupyter-cytoscape",
            "_view_module_version": "^1.3.3",
            "_view_name": "CytoscapeView",
            "auto_ungrabify": false,
            "auto_unselectify": true,
            "autolock": false,
            "box_selection_enabled": false,
            "cytoscape_layout": {
              "name": "breadthfirst"
            },
            "cytoscape_style": [
              {
                "selector": "node",
                "style": {
                  "font-family": "helvetica",
                  "font-size": "20px",
                  "label": "data(label)",
                  "text-wrap": "wrap"
                }
              },
              {
                "selector": "edge",
                "style": {
                  "font-family": "helvetica",
                  "font-size": "20px"
                }
              },
              {
                "selector": "node[degree>0]",
                "style": {
                  "height": "100px",
                  "width": "100px"
                }
              },
              {
                "selector": "node[degree>1]",
                "style": {
                  "height": "150px",
                  "width": "150px"
                }
              },
              {
                "selector": "node[degree>2]",
                "style": {
                  "height": "300px",
                  "width": "100px"
                }
              }
            ],
            "desktop_tap_threshold": 4,
            "graph": "IPY_MODEL_b3962e9847b94fd4a7f767ed96eb41e7",
            "headless": false,
            "hide_edges_on_viewport": false,
            "layout": "IPY_MODEL_6335268ab9af4530afee831ec8e4b152",
            "max_zoom": 1e+50,
            "min_zoom": 1e-50,
            "motion_blur": false,
            "motion_blur_opacity": 0.2,
            "panning_enabled": true,
            "pixel_ratio": "auto",
            "rendered_position": {
              "renderedPosition": {
                "x": 100,
                "y": 100
              }
            },
            "selection_type": "single",
            "style_enabled": true,
            "texture_on_viewport": false,
            "tooltip_source": "tooltip",
            "touch_tap_threshold": 8,
            "user_panning_enabled": true,
            "user_zooming_enabled": true,
            "wheel_sensitivity": 1,
            "zoom": 2,
            "zooming_enabled": true
          }
        },
        "734229495b0a481ca8c07b4003a7d762": {
          "model_module": "jupyter-cytoscape",
          "model_module_version": "^1.3.3",
          "model_name": "EdgeModel",
          "state": {
            "_model_module": "jupyter-cytoscape",
            "_model_module_version": "^1.3.3",
            "_model_name": "EdgeModel",
            "_view_count": null,
            "_view_module": "jupyter-cytoscape",
            "_view_module_version": "^1.3.3",
            "_view_name": "EdgeView",
            "classes": "",
            "data": {
              "source": "F0317FF7F00465B8F62093111960EFC4",
              "target": "5CA453C013427A9685756A4371E7198B",
              "type": "parent"
            },
            "pannable": true,
            "removed": false,
            "selectable": false,
            "selected": false
          }
        },
        "7b4a90111eff492da2785e1e44efa6d5": {
          "model_module": "jupyter-cytoscape",
          "model_module_version": "^1.3.3",
          "model_name": "EdgeModel",
          "state": {
            "_model_module": "jupyter-cytoscape",
            "_model_module_version": "^1.3.3",
            "_model_name": "EdgeModel",
            "_view_count": null,
            "_view_module": "jupyter-cytoscape",
            "_view_module_version": "^1.3.3",
            "_view_name": "EdgeView",
            "classes": "",
            "data": {
              "source": "6FB3F996556FA23047EC17D63474DBC6",
              "target": "2569BFD8CDBC38C19EBC274F2DB4D6F8"
            },
            "pannable": true,
            "removed": false,
            "selectable": false,
            "selected": false
          }
        },
        "7c36a62b15364b8fad334f538230764e": {
          "model_module": "jupyter-cytoscape",
          "model_module_version": "^1.3.3",
          "model_name": "NodeModel",
          "state": {
            "_model_module": "jupyter-cytoscape",
            "_model_module_version": "^1.3.3",
            "_model_name": "NodeModel",
            "_view_count": null,
            "_view_module": "jupyter-cytoscape",
            "_view_module_version": "^1.3.3",
            "_view_name": "NodeView",
            "classes": "",
            "data": {
              "id": "3FC146B94474A083174C6864A24E64D0",
              "label": "ntoskrnl.exe\n (4)",
              "type": "process"
            },
            "grabbable": true,
            "grabbed": false,
            "locked": false,
            "pannable": false,
            "position": {},
            "removed": false,
            "selectable": false,
            "selected": false
          }
        },
        "7c9aafd466e140a39fa9f6ee45687f65": {
          "model_module": "jupyter-cytoscape",
          "model_module_version": "^1.3.3",
          "model_name": "NodeModel",
          "state": {
            "_model_module": "jupyter-cytoscape",
            "_model_module_version": "^1.3.3",
            "_model_name": "NodeModel",
            "_view_count": null,
            "_view_module": "jupyter-cytoscape",
            "_view_module_version": "^1.3.3",
            "_view_name": "NodeView",
            "classes": "",
            "data": {
              "id": "B1A8E16E781D610C51AD3C2CD8FF6A26",
              "label": "172.31.38.134->172.31.47.241",
              "type": "pnc"
            },
            "grabbable": true,
            "grabbed": false,
            "locked": false,
            "pannable": false,
            "position": {},
            "removed": false,
            "selectable": false,
            "selected": false
          }
        },
        "7da3a1fd1b0b4b3f8c4b2a4bad351b55": {
          "model_module": "jupyter-cytoscape",
          "model_module_version": "^1.3.3",
          "model_name": "EdgeModel",
          "state": {
            "_model_module": "jupyter-cytoscape",
            "_model_module_version": "^1.3.3",
            "_model_name": "EdgeModel",
            "_view_count": null,
            "_view_module": "jupyter-cytoscape",
            "_view_module_version": "^1.3.3",
            "_view_name": "EdgeView",
            "classes": "",
            "data": {
              "source": "4B7F2FC3B756CE0683307BE24B54EDC4",
              "target": "172.31.5.210"
            },
            "pannable": true,
            "removed": false,
            "selectable": false,
            "selected": false
          }
        },
        "7eaeef02b42a4feebd848bce34e51bd2": {
          "model_module": "jupyter-cytoscape",
          "model_module_version": "^1.3.3",
          "model_name": "NodeModel",
          "state": {
            "_model_module": "jupyter-cytoscape",
            "_model_module_version": "^1.3.3",
            "_model_name": "NodeModel",
            "_view_count": null,
            "_view_module": "jupyter-cytoscape",
            "_view_module_version": "^1.3.3",
            "_view_name": "NodeView",
            "classes": "",
            "data": {
              "id": "699A70CB21541E3EDB64F5A4F7E81B5B",
              "label": "explorer.exe\n (3060)",
              "type": "process"
            },
            "grabbable": true,
            "grabbed": false,
            "locked": false,
            "pannable": false,
            "position": {},
            "removed": false,
            "selectable": false,
            "selected": false
          }
        },
        "801241b7ba854a4f8e073639798e9290": {
          "model_module": "jupyter-cytoscape",
          "model_module_version": "^1.3.3",
          "model_name": "NodeModel",
          "state": {
            "_model_module": "jupyter-cytoscape",
            "_model_module_version": "^1.3.3",
            "_model_name": "NodeModel",
            "_view_count": null,
            "_view_module": "jupyter-cytoscape",
            "_view_module_version": "^1.3.3",
            "_view_name": "NodeView",
            "classes": "",
            "data": {
              "id": "172.31.34.133",
              "label": "172.31.34.133",
              "type": "ip"
            },
            "grabbable": true,
            "grabbed": false,
            "locked": false,
            "pannable": false,
            "position": {},
            "removed": false,
            "selectable": false,
            "selected": false
          }
        },
        "82e018d2f175443f9163281fc72881dd": {
          "model_module": "jupyter-cytoscape",
          "model_module_version": "^1.3.3",
          "model_name": "EdgeModel",
          "state": {
            "_model_module": "jupyter-cytoscape",
            "_model_module_version": "^1.3.3",
            "_model_name": "EdgeModel",
            "_view_count": null,
            "_view_module": "jupyter-cytoscape",
            "_view_module_version": "^1.3.3",
            "_view_name": "EdgeView",
            "classes": "",
            "data": {
              "source": "6FB3F996556FA23047EC17D63474DBC6",
              "target": "7B132093D693E64A5261C25CD09957AF"
            },
            "pannable": true,
            "removed": false,
            "selectable": false,
            "selected": false
          }
        },
        "8458b91e9de14dba9f281afd15b9bcad": {
          "model_module": "jupyter-cytoscape",
          "model_module_version": "^1.3.3",
          "model_name": "EdgeModel",
          "state": {
            "_model_module": "jupyter-cytoscape",
            "_model_module_version": "^1.3.3",
            "_model_name": "EdgeModel",
            "_view_count": null,
            "_view_module": "jupyter-cytoscape",
            "_view_module_version": "^1.3.3",
            "_view_name": "EdgeView",
            "classes": "",
            "data": {
              "source": "664DA04AA880D2FD3FDD82B4BE2CF864",
              "target": "64BC18CFED4EA223DC1F3246E2F57876"
            },
            "pannable": true,
            "removed": false,
            "selectable": false,
            "selected": false
          }
        },
        "898f852cc8b24a8882ed062af922fa64": {
          "model_module": "jupyter-cytoscape",
          "model_module_version": "^1.3.3",
          "model_name": "EdgeModel",
          "state": {
            "_model_module": "jupyter-cytoscape",
            "_model_module_version": "^1.3.3",
            "_model_name": "EdgeModel",
            "_view_count": null,
            "_view_module": "jupyter-cytoscape",
            "_view_module_version": "^1.3.3",
            "_view_name": "EdgeView",
            "classes": "",
            "data": {
              "source": "172.31.37.19",
              "target": "675A509DE62DCF059760AD73E7CB1603"
            },
            "pannable": true,
            "removed": false,
            "selectable": false,
            "selected": false
          }
        },
        "8d031632704c4415ad300cf727b2fae8": {
          "model_module": "jupyter-cytoscape",
          "model_module_version": "^1.3.3",
          "model_name": "EdgeModel",
          "state": {
            "_model_module": "jupyter-cytoscape",
            "_model_module_version": "^1.3.3",
            "_model_name": "EdgeModel",
            "_view_count": null,
            "_view_module": "jupyter-cytoscape",
            "_view_module_version": "^1.3.3",
            "_view_name": "EdgeView",
            "classes": "",
            "data": {
              "source": "8D6366D12B0EA28FA9935DA92CF1FC65",
              "target": "172.31.37.19"
            },
            "pannable": true,
            "removed": false,
            "selectable": false,
            "selected": false
          }
        },
        "8f2e87fe777946559525b8bb07132762": {
          "model_module": "jupyter-cytoscape",
          "model_module_version": "^1.3.3",
          "model_name": "EdgeModel",
          "state": {
            "_model_module": "jupyter-cytoscape",
            "_model_module_version": "^1.3.3",
            "_model_name": "EdgeModel",
            "_view_count": null,
            "_view_module": "jupyter-cytoscape",
            "_view_module_version": "^1.3.3",
            "_view_name": "EdgeView",
            "classes": "",
            "data": {
              "source": "8D6366D12B0EA28FA9935DA92CF1FC65",
              "target": "172.31.34.133"
            },
            "pannable": true,
            "removed": false,
            "selectable": false,
            "selected": false
          }
        },
        "92a0000ba4204f28bb729bd9683a4dc7": {
          "model_module": "jupyter-cytoscape",
          "model_module_version": "^1.3.3",
          "model_name": "EdgeModel",
          "state": {
            "_model_module": "jupyter-cytoscape",
            "_model_module_version": "^1.3.3",
            "_model_name": "EdgeModel",
            "_view_count": null,
            "_view_module": "jupyter-cytoscape",
            "_view_module_version": "^1.3.3",
            "_view_name": "EdgeView",
            "classes": "",
            "data": {
              "source": "E27DE772BA8B13C58FD3E671B3538CA2",
              "target": "D3D0E1B273CA23A5DB510E7E38A68BDB",
              "type": "parent"
            },
            "pannable": true,
            "removed": false,
            "selectable": false,
            "selected": false
          }
        },
        "93f3f181a0b1409da0867b11106557a6": {
          "model_module": "jupyter-cytoscape",
          "model_module_version": "^1.3.3",
          "model_name": "EdgeModel",
          "state": {
            "_model_module": "jupyter-cytoscape",
            "_model_module_version": "^1.3.3",
            "_model_name": "EdgeModel",
            "_view_count": null,
            "_view_module": "jupyter-cytoscape",
            "_view_module_version": "^1.3.3",
            "_view_name": "EdgeView",
            "classes": "",
            "data": {
              "source": "527A388646D31465F648AA4878718329",
              "target": "3FC146B94474A083174C6864A24E64D0",
              "type": "parent"
            },
            "pannable": true,
            "removed": false,
            "selectable": false,
            "selected": false
          }
        },
        "94fb9dcecec34909bbd332414e2a79ae": {
          "model_module": "jupyter-cytoscape",
          "model_module_version": "^1.3.3",
          "model_name": "NodeModel",
          "state": {
            "_model_module": "jupyter-cytoscape",
            "_model_module_version": "^1.3.3",
            "_model_name": "NodeModel",
            "_view_count": null,
            "_view_module": "jupyter-cytoscape",
            "_view_module_version": "^1.3.3",
            "_view_name": "NodeView",
            "classes": "",
            "data": {
              "id": "8D6366D12B0EA28FA9935DA92CF1FC65",
              "label": "172.31.37.19->172.31.34.133",
              "type": "pnc"
            },
            "grabbable": true,
            "grabbed": false,
            "locked": false,
            "pannable": false,
            "position": {},
            "removed": false,
            "selectable": false,
            "selected": false
          }
        },
        "983cb66cc0714033beca200a62f15221": {
          "model_module": "jupyter-cytoscape",
          "model_module_version": "^1.3.3",
          "model_name": "NodeModel",
          "state": {
            "_model_module": "jupyter-cytoscape",
            "_model_module_version": "^1.3.3",
            "_model_name": "NodeModel",
            "_view_count": null,
            "_view_module": "jupyter-cytoscape",
            "_view_module_version": "^1.3.3",
            "_view_name": "NodeView",
            "classes": "",
            "data": {
              "id": "172.31.47.241",
              "label": "172.31.47.241",
              "type": "ip"
            },
            "grabbable": true,
            "grabbed": false,
            "locked": false,
            "pannable": false,
            "position": {},
            "removed": false,
            "selectable": false,
            "selected": false
          }
        },
        "9afcc6f1ec574a31955d02e5d295776d": {
          "model_module": "jupyter-cytoscape",
          "model_module_version": "^1.3.3",
          "model_name": "NodeModel",
          "state": {
            "_model_module": "jupyter-cytoscape",
            "_model_module_version": "^1.3.3",
            "_model_name": "NodeModel",
            "_view_count": null,
            "_view_module": "jupyter-cytoscape",
            "_view_module_version": "^1.3.3",
            "_view_name": "NodeView",
            "classes": "",
            "data": {
              "id": "172.31.5.210",
              "label": "172.31.5.210",
              "type": "ip"
            },
            "grabbable": true,
            "grabbed": false,
            "locked": false,
            "pannable": false,
            "position": {},
            "removed": false,
            "selectable": false,
            "selected": false
          }
        },
        "9dca0d07c6a74dd980757a4202729024": {
          "model_module": "jupyter-cytoscape",
          "model_module_version": "^1.3.3",
          "model_name": "EdgeModel",
          "state": {
            "_model_module": "jupyter-cytoscape",
            "_model_module_version": "^1.3.3",
            "_model_name": "EdgeModel",
            "_view_count": null,
            "_view_module": "jupyter-cytoscape",
            "_view_module_version": "^1.3.3",
            "_view_name": "EdgeView",
            "classes": "",
            "data": {
              "source": "699A70CB21541E3EDB64F5A4F7E81B5B",
              "target": "5A0AF3E78C16A0F2FC6A8F65D8DA19EF",
              "type": "parent"
            },
            "pannable": true,
            "removed": false,
            "selectable": false,
            "selected": false
          }
        },
        "9dfb3389622940578e2c68e4b45b265d": {
          "model_module": "jupyter-cytoscape",
          "model_module_version": "^1.3.3",
          "model_name": "EdgeModel",
          "state": {
            "_model_module": "jupyter-cytoscape",
            "_model_module_version": "^1.3.3",
            "_model_name": "EdgeModel",
            "_view_count": null,
            "_view_module": "jupyter-cytoscape",
            "_view_module_version": "^1.3.3",
            "_view_name": "EdgeView",
            "classes": "",
            "data": {
              "source": "6FB3F996556FA23047EC17D63474DBC6",
              "target": "B1A8E16E781D610C51AD3C2CD8FF6A26"
            },
            "pannable": true,
            "removed": false,
            "selectable": false,
            "selected": false
          }
        },
        "a0044ee74f524889a937db9e80579dda": {
          "model_module": "jupyter-cytoscape",
          "model_module_version": "^1.3.3",
          "model_name": "EdgeModel",
          "state": {
            "_model_module": "jupyter-cytoscape",
            "_model_module_version": "^1.3.3",
            "_model_name": "EdgeModel",
            "_view_count": null,
            "_view_module": "jupyter-cytoscape",
            "_view_module_version": "^1.3.3",
            "_view_name": "EdgeView",
            "classes": "",
            "data": {
              "source": "E396785B4474AFA8AD55EB2C6669D9E8",
              "target": "675A509DE62DCF059760AD73E7CB1603"
            },
            "pannable": true,
            "removed": false,
            "selectable": false,
            "selected": false
          }
        },
        "a238b6ff65bb4280bfc8027e9580639b": {
          "model_module": "jupyter-cytoscape",
          "model_module_version": "^1.3.3",
          "model_name": "EdgeModel",
          "state": {
            "_model_module": "jupyter-cytoscape",
            "_model_module_version": "^1.3.3",
            "_model_name": "EdgeModel",
            "_view_count": null,
            "_view_module": "jupyter-cytoscape",
            "_view_module_version": "^1.3.3",
            "_view_name": "EdgeView",
            "classes": "",
            "data": {
              "source": "172.31.38.134",
              "target": "2569BFD8CDBC38C19EBC274F2DB4D6F8"
            },
            "pannable": true,
            "removed": false,
            "selectable": false,
            "selected": false
          }
        },
        "a5e53e653d414dbcaf548fa65c858594": {
          "model_module": "jupyter-cytoscape",
          "model_module_version": "^1.3.3",
          "model_name": "EdgeModel",
          "state": {
            "_model_module": "jupyter-cytoscape",
            "_model_module_version": "^1.3.3",
            "_model_name": "EdgeModel",
            "_view_count": null,
            "_view_module": "jupyter-cytoscape",
            "_view_module_version": "^1.3.3",
            "_view_name": "EdgeView",
            "classes": "",
            "data": {
              "source": "172.31.4.149",
              "target": "2569BFD8CDBC38C19EBC274F2DB4D6F8"
            },
            "pannable": true,
            "removed": false,
            "selectable": false,
            "selected": false
          }
        },
        "b357cc650ca54de09e76d9f67b41f9ac": {
          "model_module": "jupyter-cytoscape",
          "model_module_version": "^1.3.3",
          "model_name": "NodeModel",
          "state": {
            "_model_module": "jupyter-cytoscape",
            "_model_module_version": "^1.3.3",
            "_model_name": "NodeModel",
            "_view_count": null,
            "_view_module": "jupyter-cytoscape",
            "_view_module_version": "^1.3.3",
            "_view_name": "NodeView",
            "classes": "",
            "data": {
              "id": "4B7F2FC3B756CE0683307BE24B54EDC4",
              "label": "172.31.38.134->172.31.5.210",
              "type": "pnc"
            },
            "grabbable": true,
            "grabbed": false,
            "locked": false,
            "pannable": false,
            "position": {},
            "removed": false,
            "selectable": false,
            "selected": false
          }
        },
        "b3962e9847b94fd4a7f767ed96eb41e7": {
          "model_module": "jupyter-cytoscape",
          "model_module_version": "^1.3.3",
          "model_name": "GraphModel",
          "state": {
            "_adj": {
              "172.31.34.133": {},
              "172.31.37.19": {},
              "172.31.38.134": {},
              "172.31.4.149": {},
              "172.31.47.241": {},
              "172.31.5.210": {},
              "2569BFD8CDBC38C19EBC274F2DB4D6F8": {},
              "3FC146B94474A083174C6864A24E64D0": {},
              "4B7F2FC3B756CE0683307BE24B54EDC4": {},
              "527A388646D31465F648AA4878718329": {},
              "59C0BEE3CD4217DEB58F177330C4F539": {},
              "5A0AF3E78C16A0F2FC6A8F65D8DA19EF": {},
              "5CA453C013427A9685756A4371E7198B": {},
              "61AD9E9F2C107B72B90ECB3D5051C1C9": {},
              "64BC18CFED4EA223DC1F3246E2F57876": {},
              "664DA04AA880D2FD3FDD82B4BE2CF864": {},
              "6735B8F4B9DF6C05AB8F566436DF06AB": {},
              "675A509DE62DCF059760AD73E7CB1603": {},
              "699A70CB21541E3EDB64F5A4F7E81B5B": {},
              "6FB3F996556FA23047EC17D63474DBC6": {},
              "7B132093D693E64A5261C25CD09957AF": {},
              "8D6366D12B0EA28FA9935DA92CF1FC65": {},
              "95EE201C020ECE57577BFE8576D4C7EC": {},
              "97C4502FA4E58E51AA7A3E767AE7CC5A": {},
              "A9C4E044578872BF6DCA3599F236A620": {},
              "B1A8E16E781D610C51AD3C2CD8FF6A26": {},
              "B8C49B7460C44196600062B21AE026B9": {},
              "C7F2E17B8172DCB87CECE5CED1241EFD": {},
              "D3D0E1B273CA23A5DB510E7E38A68BDB": {},
              "E27DE772BA8B13C58FD3E671B3538CA2": {},
              "E396785B4474AFA8AD55EB2C6669D9E8": {},
              "EE5CB9E4A5EF3C2FB876068E25BA6435": {},
              "F0317FF7F00465B8F62093111960EFC4": {},
              "F6A1A412FE8988B22F0CD1295B7117C0": {},
              "FC81B9A1AA4FA9A1C3B41C8A2B51C3F1": {}
            },
            "_model_module": "jupyter-cytoscape",
            "_model_module_version": "^1.3.3",
            "_model_name": "GraphModel",
            "_view_count": null,
            "_view_module": "jupyter-cytoscape",
            "_view_module_version": "^1.3.3",
            "_view_name": null,
            "edges": [
              "IPY_MODEL_e7a98b55b9ab43269852a1f3efac6efc",
              "IPY_MODEL_254fd01e8b664ad09d5149532b2672c8",
              "IPY_MODEL_effd55b7110e4191b45b71e979729d54",
              "IPY_MODEL_92a0000ba4204f28bb729bd9683a4dc7",
              "IPY_MODEL_ff8552552e7349c88cca1f54a17f29ec",
              "IPY_MODEL_bc1b133a69de45c493f2d82efcec8999",
              "IPY_MODEL_4e9ea2e8549a48ac860bb7a430d11441",
              "IPY_MODEL_fa8d9d74e3184a9fa94f154ad8a3e4ab",
              "IPY_MODEL_fff5fd6b0c894ebb9b892fc11f531df2",
              "IPY_MODEL_8458b91e9de14dba9f281afd15b9bcad",
              "IPY_MODEL_6c7fef2ab3fb4b87adba5c87ab62eb0c",
              "IPY_MODEL_b51937a5f39f4c1b9fa427734ced546b",
              "IPY_MODEL_7b4a90111eff492da2785e1e44efa6d5",
              "IPY_MODEL_9dfb3389622940578e2c68e4b45b265d",
              "IPY_MODEL_82e018d2f175443f9163281fc72881dd",
              "IPY_MODEL_5d1b40e29e7c47b7b1972f26c8331e5e",
              "IPY_MODEL_a0044ee74f524889a937db9e80579dda",
              "IPY_MODEL_5f8079ae8cb44faea3da678645ac9aad",
              "IPY_MODEL_6fda1d14f751472a8af470a566151751",
              "IPY_MODEL_ff1bb50d49244ca2ad38e854a971ee0d",
              "IPY_MODEL_39301ec383224558ab13131b56d56d8c",
              "IPY_MODEL_a238b6ff65bb4280bfc8027e9580639b",
              "IPY_MODEL_387afb105746450a8b54dfa1ab972cf7",
              "IPY_MODEL_453abd8d744042f7a8dbed087b59a0ad",
              "IPY_MODEL_02de3f75b2a64c4e8d1f923e37c90cf3",
              "IPY_MODEL_bb87b72dd3834aaebdce1e5e19d18791",
              "IPY_MODEL_a5e53e653d414dbcaf548fa65c858594",
              "IPY_MODEL_d1cd5feb959e45b0b7c0f346f5e3bda0",
              "IPY_MODEL_8d031632704c4415ad300cf727b2fae8",
              "IPY_MODEL_8f2e87fe777946559525b8bb07132762",
              "IPY_MODEL_e58a0d4af7b94f43919ada3e3a9f5d34",
              "IPY_MODEL_898f852cc8b24a8882ed062af922fa64",
              "IPY_MODEL_ca490d9aaa304954ab5a17342f38c21d",
              "IPY_MODEL_1cf1715422014124a7829eb8e597a31c",
              "IPY_MODEL_0b52aadb976d44c0b5e0382c43ebfe0e",
              "IPY_MODEL_1763a35f43794f1686ef7fb983b00af0",
              "IPY_MODEL_7da3a1fd1b0b4b3f8c4b2a4bad351b55",
              "IPY_MODEL_d1081d1d229241828839a52c14e28b93",
              "IPY_MODEL_f2e3854276b2449e9ad6c0589b11dd89",
              "IPY_MODEL_c3a755317a404122be4bc28d18610b94",
              "IPY_MODEL_02801188c8bd4764b6a7a678431d3f54",
              "IPY_MODEL_d3e6b1091fd845d88e5337db02605e0b",
              "IPY_MODEL_734229495b0a481ca8c07b4003a7d762",
              "IPY_MODEL_123ac6be66644183b78935632924e922",
              "IPY_MODEL_9dca0d07c6a74dd980757a4202729024",
              "IPY_MODEL_0045836adba4425fa5411f7ce842bb9c",
              "IPY_MODEL_93f3f181a0b1409da0867b11106557a6",
              "IPY_MODEL_6b002bc91cfe45ff944f68d912eec4a5"
            ],
            "nodes": [
              "IPY_MODEL_164675a263e743088e35d5373220f5a1",
              "IPY_MODEL_352342a2cbc742d5bd060f00907e9970",
              "IPY_MODEL_37f2365871b74415ae98d0d2eefde354",
              "IPY_MODEL_3386cfccd5bd4c3baad4af75e804c417",
              "IPY_MODEL_f5d7efcf2c474a9aaa98edb0e3ef956b",
              "IPY_MODEL_e6b1c929bef04cca908df7babdb01106",
              "IPY_MODEL_28e8893e603544ada69858ad5494511c",
              "IPY_MODEL_5164d5e64ad8413eba45ab89f09a4d1d",
              "IPY_MODEL_20f18dd6552848bcbbd2a8eb8c028c5f",
              "IPY_MODEL_2afb11ff203e4b82bada234a0c8af47a",
              "IPY_MODEL_3636972f81e849169c3ef5782cd44439",
              "IPY_MODEL_94fb9dcecec34909bbd332414e2a79ae",
              "IPY_MODEL_d4b779d2198441c886d413fdf7f8f437",
              "IPY_MODEL_801241b7ba854a4f8e073639798e9290",
              "IPY_MODEL_57392d5280df4ba8984618123ad31ad9",
              "IPY_MODEL_4f2eebe851e047cc978ad4767b4995e7",
              "IPY_MODEL_e58de64a39e5447f8533df658be27715",
              "IPY_MODEL_fc0a0075ebbe4f0d85578973d19b12de",
              "IPY_MODEL_65cd66a9709046e19aa5e1933236df43",
              "IPY_MODEL_b357cc650ca54de09e76d9f67b41f9ac",
              "IPY_MODEL_9afcc6f1ec574a31955d02e5d295776d",
              "IPY_MODEL_7c9aafd466e140a39fa9f6ee45687f65",
              "IPY_MODEL_983cb66cc0714033beca200a62f15221",
              "IPY_MODEL_04d98d24e5c74a57872b12c14e246b91",
              "IPY_MODEL_437054bec6d243519d78672a53a727ea",
              "IPY_MODEL_bd96ca3e66f946e58afcf538cbcb967c",
              "IPY_MODEL_03ebfd4f7f9744ac86410469c54ead87",
              "IPY_MODEL_d91fb4832a1c4337b08ff582750f933f",
              "IPY_MODEL_ebc87f5767d04beaa8d59d87558d30ee",
              "IPY_MODEL_165b03c020e94564b0c612c9c4787bdd",
              "IPY_MODEL_7eaeef02b42a4feebd848bce34e51bd2",
              "IPY_MODEL_65127dad86cc457994373d137c325ebc",
              "IPY_MODEL_eb180ae911c44c70863fa9a4b0c0fcac",
              "IPY_MODEL_400f6d53a6734923960ac61608478e75",
              "IPY_MODEL_7c36a62b15364b8fad334f538230764e"
            ]
          }
        },
        "b51937a5f39f4c1b9fa427734ced546b": {
          "model_module": "jupyter-cytoscape",
          "model_module_version": "^1.3.3",
          "model_name": "EdgeModel",
          "state": {
            "_model_module": "jupyter-cytoscape",
            "_model_module_version": "^1.3.3",
            "_model_name": "EdgeModel",
            "_view_count": null,
            "_view_module": "jupyter-cytoscape",
            "_view_module_version": "^1.3.3",
            "_view_name": "EdgeView",
            "classes": "",
            "data": {
              "source": "59C0BEE3CD4217DEB58F177330C4F539",
              "target": "6735B8F4B9DF6C05AB8F566436DF06AB",
              "type": "parent"
            },
            "pannable": true,
            "removed": false,
            "selectable": false,
            "selected": false
          }
        },
        "bb87b72dd3834aaebdce1e5e19d18791": {
          "model_module": "jupyter-cytoscape",
          "model_module_version": "^1.3.3",
          "model_name": "EdgeModel",
          "state": {
            "_model_module": "jupyter-cytoscape",
            "_model_module_version": "^1.3.3",
            "_model_name": "EdgeModel",
            "_view_count": null,
            "_view_module": "jupyter-cytoscape",
            "_view_module_version": "^1.3.3",
            "_view_name": "EdgeView",
            "classes": "",
            "data": {
              "source": "172.31.4.149",
              "target": "EE5CB9E4A5EF3C2FB876068E25BA6435"
            },
            "pannable": true,
            "removed": false,
            "selectable": false,
            "selected": false
          }
        },
        "bc1b133a69de45c493f2d82efcec8999": {
          "model_module": "jupyter-cytoscape",
          "model_module_version": "^1.3.3",
          "model_name": "EdgeModel",
          "state": {
            "_model_module": "jupyter-cytoscape",
            "_model_module_version": "^1.3.3",
            "_model_name": "EdgeModel",
            "_view_count": null,
            "_view_module": "jupyter-cytoscape",
            "_view_module_version": "^1.3.3",
            "_view_name": "EdgeView",
            "classes": "",
            "data": {
              "source": "61AD9E9F2C107B72B90ECB3D5051C1C9",
              "target": "4B7F2FC3B756CE0683307BE24B54EDC4"
            },
            "pannable": true,
            "removed": false,
            "selectable": false,
            "selected": false
          }
        },
        "bd96ca3e66f946e58afcf538cbcb967c": {
          "model_module": "jupyter-cytoscape",
          "model_module_version": "^1.3.3",
          "model_name": "NodeModel",
          "state": {
            "_model_module": "jupyter-cytoscape",
            "_model_module_version": "^1.3.3",
            "_model_name": "NodeModel",
            "_view_count": null,
            "_view_module": "jupyter-cytoscape",
            "_view_module_version": "^1.3.3",
            "_view_name": "NodeView",
            "classes": "",
            "data": {
              "id": "95EE201C020ECE57577BFE8576D4C7EC",
              "label": "userinit.exe\n (8660)",
              "type": "process"
            },
            "grabbable": true,
            "grabbed": false,
            "locked": false,
            "pannable": false,
            "position": {},
            "removed": false,
            "selectable": false,
            "selected": false
          }
        },
        "c3a755317a404122be4bc28d18610b94": {
          "model_module": "jupyter-cytoscape",
          "model_module_version": "^1.3.3",
          "model_name": "EdgeModel",
          "state": {
            "_model_module": "jupyter-cytoscape",
            "_model_module_version": "^1.3.3",
            "_model_name": "EdgeModel",
            "_view_count": null,
            "_view_module": "jupyter-cytoscape",
            "_view_module_version": "^1.3.3",
            "_view_name": "EdgeView",
            "classes": "",
            "data": {
              "source": "95EE201C020ECE57577BFE8576D4C7EC",
              "target": "FC81B9A1AA4FA9A1C3B41C8A2B51C3F1",
              "type": "parent"
            },
            "pannable": true,
            "removed": false,
            "selectable": false,
            "selected": false
          }
        },
        "ca490d9aaa304954ab5a17342f38c21d": {
          "model_module": "jupyter-cytoscape",
          "model_module_version": "^1.3.3",
          "model_name": "EdgeModel",
          "state": {
            "_model_module": "jupyter-cytoscape",
            "_model_module_version": "^1.3.3",
            "_model_name": "EdgeModel",
            "_view_count": null,
            "_view_module": "jupyter-cytoscape",
            "_view_module_version": "^1.3.3",
            "_view_name": "EdgeView",
            "classes": "",
            "data": {
              "source": "172.31.37.19",
              "target": "64BC18CFED4EA223DC1F3246E2F57876"
            },
            "pannable": true,
            "removed": false,
            "selectable": false,
            "selected": false
          }
        },
        "d1081d1d229241828839a52c14e28b93": {
          "model_module": "jupyter-cytoscape",
          "model_module_version": "^1.3.3",
          "model_name": "EdgeModel",
          "state": {
            "_model_module": "jupyter-cytoscape",
            "_model_module_version": "^1.3.3",
            "_model_name": "EdgeModel",
            "_view_count": null,
            "_view_module": "jupyter-cytoscape",
            "_view_module_version": "^1.3.3",
            "_view_name": "EdgeView",
            "classes": "",
            "data": {
              "source": "B1A8E16E781D610C51AD3C2CD8FF6A26",
              "target": "172.31.47.241"
            },
            "pannable": true,
            "removed": false,
            "selectable": false,
            "selected": false
          }
        },
        "d1cd5feb959e45b0b7c0f346f5e3bda0": {
          "model_module": "jupyter-cytoscape",
          "model_module_version": "^1.3.3",
          "model_name": "EdgeModel",
          "state": {
            "_model_module": "jupyter-cytoscape",
            "_model_module_version": "^1.3.3",
            "_model_name": "EdgeModel",
            "_view_count": null,
            "_view_module": "jupyter-cytoscape",
            "_view_module_version": "^1.3.3",
            "_view_name": "EdgeView",
            "classes": "",
            "data": {
              "source": "172.31.4.149",
              "target": "7B132093D693E64A5261C25CD09957AF"
            },
            "pannable": true,
            "removed": false,
            "selectable": false,
            "selected": false
          }
        },
        "d3e6b1091fd845d88e5337db02605e0b": {
          "model_module": "jupyter-cytoscape",
          "model_module_version": "^1.3.3",
          "model_name": "EdgeModel",
          "state": {
            "_model_module": "jupyter-cytoscape",
            "_model_module_version": "^1.3.3",
            "_model_name": "EdgeModel",
            "_view_count": null,
            "_view_module": "jupyter-cytoscape",
            "_view_module_version": "^1.3.3",
            "_view_name": "EdgeView",
            "classes": "",
            "data": {
              "source": "C7F2E17B8172DCB87CECE5CED1241EFD",
              "target": "527A388646D31465F648AA4878718329",
              "type": "parent"
            },
            "pannable": true,
            "removed": false,
            "selectable": false,
            "selected": false
          }
        },
        "d4b779d2198441c886d413fdf7f8f437": {
          "model_module": "jupyter-cytoscape",
          "model_module_version": "^1.3.3",
          "model_name": "NodeModel",
          "state": {
            "_model_module": "jupyter-cytoscape",
            "_model_module_version": "^1.3.3",
            "_model_name": "NodeModel",
            "_view_count": null,
            "_view_module": "jupyter-cytoscape",
            "_view_module_version": "^1.3.3",
            "_view_name": "NodeView",
            "classes": "",
            "data": {
              "id": "172.31.37.19",
              "label": "172.31.37.19",
              "type": "ip"
            },
            "grabbable": true,
            "grabbed": false,
            "locked": false,
            "pannable": false,
            "position": {},
            "removed": false,
            "selectable": false,
            "selected": false
          }
        },
        "d91fb4832a1c4337b08ff582750f933f": {
          "model_module": "jupyter-cytoscape",
          "model_module_version": "^1.3.3",
          "model_name": "NodeModel",
          "state": {
            "_model_module": "jupyter-cytoscape",
            "_model_module_version": "^1.3.3",
            "_model_name": "NodeModel",
            "_view_count": null,
            "_view_module": "jupyter-cytoscape",
            "_view_module_version": "^1.3.3",
            "_view_name": "NodeView",
            "classes": "",
            "data": {
              "id": "C7F2E17B8172DCB87CECE5CED1241EFD",
              "label": "smss.exe\n (1840)",
              "type": "process"
            },
            "grabbable": true,
            "grabbed": false,
            "locked": false,
            "pannable": false,
            "position": {},
            "removed": false,
            "selectable": false,
            "selected": false
          }
        },
        "e58a0d4af7b94f43919ada3e3a9f5d34": {
          "model_module": "jupyter-cytoscape",
          "model_module_version": "^1.3.3",
          "model_name": "EdgeModel",
          "state": {
            "_model_module": "jupyter-cytoscape",
            "_model_module_version": "^1.3.3",
            "_model_name": "EdgeModel",
            "_view_count": null,
            "_view_module": "jupyter-cytoscape",
            "_view_module_version": "^1.3.3",
            "_view_name": "EdgeView",
            "classes": "",
            "data": {
              "source": "172.31.37.19",
              "target": "F6A1A412FE8988B22F0CD1295B7117C0"
            },
            "pannable": true,
            "removed": false,
            "selectable": false,
            "selected": false
          }
        },
        "e58de64a39e5447f8533df658be27715": {
          "model_module": "jupyter-cytoscape",
          "model_module_version": "^1.3.3",
          "model_name": "NodeModel",
          "state": {
            "_model_module": "jupyter-cytoscape",
            "_model_module_version": "^1.3.3",
            "_model_name": "NodeModel",
            "_view_count": null,
            "_view_module": "jupyter-cytoscape",
            "_view_module_version": "^1.3.3",
            "_view_name": "NodeView",
            "classes": "",
            "data": {
              "id": "F6A1A412FE8988B22F0CD1295B7117C0",
              "label": "172.31.37.19->172.31.34.133",
              "type": "pnc"
            },
            "grabbable": true,
            "grabbed": false,
            "locked": false,
            "pannable": false,
            "position": {},
            "removed": false,
            "selectable": false,
            "selected": false
          }
        },
        "e6b1c929bef04cca908df7babdb01106": {
          "model_module": "jupyter-cytoscape",
          "model_module_version": "^1.3.3",
          "model_name": "NodeModel",
          "state": {
            "_model_module": "jupyter-cytoscape",
            "_model_module_version": "^1.3.3",
            "_model_name": "NodeModel",
            "_view_count": null,
            "_view_module": "jupyter-cytoscape",
            "_view_module_version": "^1.3.3",
            "_view_name": "NodeView",
            "classes": "",
            "data": {
              "id": "59C0BEE3CD4217DEB58F177330C4F539",
              "label": "ssh.exe\n (7020)",
              "type": "process"
            },
            "grabbable": true,
            "grabbed": false,
            "locked": false,
            "pannable": false,
            "position": {},
            "removed": false,
            "selectable": false,
            "selected": false
          }
        },
        "e7a98b55b9ab43269852a1f3efac6efc": {
          "model_module": "jupyter-cytoscape",
          "model_module_version": "^1.3.3",
          "model_name": "EdgeModel",
          "state": {
            "_model_module": "jupyter-cytoscape",
            "_model_module_version": "^1.3.3",
            "_model_name": "EdgeModel",
            "_view_count": null,
            "_view_module": "jupyter-cytoscape",
            "_view_module_version": "^1.3.3",
            "_view_name": "EdgeView",
            "classes": "",
            "data": {
              "source": "97C4502FA4E58E51AA7A3E767AE7CC5A",
              "target": "8D6366D12B0EA28FA9935DA92CF1FC65"
            },
            "pannable": true,
            "removed": false,
            "selectable": false,
            "selected": false
          }
        },
        "eb180ae911c44c70863fa9a4b0c0fcac": {
          "model_module": "jupyter-cytoscape",
          "model_module_version": "^1.3.3",
          "model_name": "NodeModel",
          "state": {
            "_model_module": "jupyter-cytoscape",
            "_model_module_version": "^1.3.3",
            "_model_name": "NodeModel",
            "_view_count": null,
            "_view_module": "jupyter-cytoscape",
            "_view_module_version": "^1.3.3",
            "_view_name": "NodeView",
            "classes": "",
            "data": {
              "id": "5CA453C013427A9685756A4371E7198B",
              "label": "winlogon.exe\n (6740)",
              "type": "process"
            },
            "grabbable": true,
            "grabbed": false,
            "locked": false,
            "pannable": false,
            "position": {},
            "removed": false,
            "selectable": false,
            "selected": false
          }
        },
        "ebc87f5767d04beaa8d59d87558d30ee": {
          "model_module": "jupyter-cytoscape",
          "model_module_version": "^1.3.3",
          "model_name": "NodeModel",
          "state": {
            "_model_module": "jupyter-cytoscape",
            "_model_module_version": "^1.3.3",
            "_model_name": "NodeModel",
            "_view_count": null,
            "_view_module": "jupyter-cytoscape",
            "_view_module_version": "^1.3.3",
            "_view_name": "NodeView",
            "classes": "",
            "data": {
              "id": "F0317FF7F00465B8F62093111960EFC4",
              "label": "logonui.exe\n (3784)",
              "type": "process"
            },
            "grabbable": true,
            "grabbed": false,
            "locked": false,
            "pannable": false,
            "position": {},
            "removed": false,
            "selectable": false,
            "selected": false
          }
        },
        "effd55b7110e4191b45b71e979729d54": {
          "model_module": "jupyter-cytoscape",
          "model_module_version": "^1.3.3",
          "model_name": "EdgeModel",
          "state": {
            "_model_module": "jupyter-cytoscape",
            "_model_module_version": "^1.3.3",
            "_model_name": "EdgeModel",
            "_view_count": null,
            "_view_module": "jupyter-cytoscape",
            "_view_module_version": "^1.3.3",
            "_view_name": "EdgeView",
            "classes": "",
            "data": {
              "source": "E27DE772BA8B13C58FD3E671B3538CA2",
              "target": "EE5CB9E4A5EF3C2FB876068E25BA6435"
            },
            "pannable": true,
            "removed": false,
            "selectable": false,
            "selected": false
          }
        },
        "f2e3854276b2449e9ad6c0589b11dd89": {
          "model_module": "jupyter-cytoscape",
          "model_module_version": "^1.3.3",
          "model_name": "EdgeModel",
          "state": {
            "_model_module": "jupyter-cytoscape",
            "_model_module_version": "^1.3.3",
            "_model_name": "EdgeModel",
            "_view_count": null,
            "_view_module": "jupyter-cytoscape",
            "_view_module_version": "^1.3.3",
            "_view_name": "EdgeView",
            "classes": "",
            "data": {
              "source": "D3D0E1B273CA23A5DB510E7E38A68BDB",
              "target": "95EE201C020ECE57577BFE8576D4C7EC",
              "type": "parent"
            },
            "pannable": true,
            "removed": false,
            "selectable": false,
            "selected": false
          }
        },
        "f5d7efcf2c474a9aaa98edb0e3ef956b": {
          "model_module": "jupyter-cytoscape",
          "model_module_version": "^1.3.3",
          "model_name": "NodeModel",
          "state": {
            "_model_module": "jupyter-cytoscape",
            "_model_module_version": "^1.3.3",
            "_model_name": "NodeModel",
            "_view_count": null,
            "_view_module": "jupyter-cytoscape",
            "_view_module_version": "^1.3.3",
            "_view_name": "NodeView",
            "classes": "",
            "data": {
              "id": "664DA04AA880D2FD3FDD82B4BE2CF864",
              "label": "ssh.exe\n (2356)",
              "type": "process"
            },
            "grabbable": true,
            "grabbed": false,
            "locked": false,
            "pannable": false,
            "position": {},
            "removed": false,
            "selectable": false,
            "selected": false
          }
        },
        "fa8d9d74e3184a9fa94f154ad8a3e4ab": {
          "model_module": "jupyter-cytoscape",
          "model_module_version": "^1.3.3",
          "model_name": "EdgeModel",
          "state": {
            "_model_module": "jupyter-cytoscape",
            "_model_module_version": "^1.3.3",
            "_model_name": "EdgeModel",
            "_view_count": null,
            "_view_module": "jupyter-cytoscape",
            "_view_module_version": "^1.3.3",
            "_view_name": "EdgeView",
            "classes": "",
            "data": {
              "source": "A9C4E044578872BF6DCA3599F236A620",
              "target": "F6A1A412FE8988B22F0CD1295B7117C0"
            },
            "pannable": true,
            "removed": false,
            "selectable": false,
            "selected": false
          }
        },
        "fc0a0075ebbe4f0d85578973d19b12de": {
          "model_module": "jupyter-cytoscape",
          "model_module_version": "^1.3.3",
          "model_name": "NodeModel",
          "state": {
            "_model_module": "jupyter-cytoscape",
            "_model_module_version": "^1.3.3",
            "_model_name": "NodeModel",
            "_view_count": null,
            "_view_module": "jupyter-cytoscape",
            "_view_module_version": "^1.3.3",
            "_view_name": "NodeView",
            "classes": "",
            "data": {
              "id": "675A509DE62DCF059760AD73E7CB1603",
              "label": "172.31.37.19->172.31.34.133",
              "type": "pnc"
            },
            "grabbable": true,
            "grabbed": false,
            "locked": false,
            "pannable": false,
            "position": {},
            "removed": false,
            "selectable": false,
            "selected": false
          }
        },
        "ff1bb50d49244ca2ad38e854a971ee0d": {
          "model_module": "jupyter-cytoscape",
          "model_module_version": "^1.3.3",
          "model_name": "EdgeModel",
          "state": {
            "_model_module": "jupyter-cytoscape",
            "_model_module_version": "^1.3.3",
            "_model_name": "EdgeModel",
            "_view_count": null,
            "_view_module": "jupyter-cytoscape",
            "_view_module_version": "^1.3.3",
            "_view_name": "EdgeView",
            "classes": "",
            "data": {
              "source": "B8C49B7460C44196600062B21AE026B9",
              "target": "172.31.4.149"
            },
            "pannable": true,
            "removed": false,
            "selectable": false,
            "selected": false
          }
        },
        "ff8552552e7349c88cca1f54a17f29ec": {
          "model_module": "jupyter-cytoscape",
          "model_module_version": "^1.3.3",
          "model_name": "EdgeModel",
          "state": {
            "_model_module": "jupyter-cytoscape",
            "_model_module_version": "^1.3.3",
            "_model_name": "EdgeModel",
            "_view_count": null,
            "_view_module": "jupyter-cytoscape",
            "_view_module_version": "^1.3.3",
            "_view_name": "EdgeView",
            "classes": "",
            "data": {
              "source": "61AD9E9F2C107B72B90ECB3D5051C1C9",
              "target": "B8C49B7460C44196600062B21AE026B9"
            },
            "pannable": true,
            "removed": false,
            "selectable": false,
            "selected": false
          }
        },
        "fff5fd6b0c894ebb9b892fc11f531df2": {
          "model_module": "jupyter-cytoscape",
          "model_module_version": "^1.3.3",
          "model_name": "EdgeModel",
          "state": {
            "_model_module": "jupyter-cytoscape",
            "_model_module_version": "^1.3.3",
            "_model_name": "EdgeModel",
            "_view_count": null,
            "_view_module": "jupyter-cytoscape",
            "_view_module_version": "^1.3.3",
            "_view_name": "EdgeView",
            "classes": "",
            "data": {
              "source": "A9C4E044578872BF6DCA3599F236A620",
              "target": "6735B8F4B9DF6C05AB8F566436DF06AB",
              "type": "parent"
            },
            "pannable": true,
            "removed": false,
            "selectable": false,
            "selected": false
          }
        }
      }
    }
  },
  "nbformat": 4,
  "nbformat_minor": 0
}
