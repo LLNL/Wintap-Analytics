{
 "cells": [
  {
   "cell_type": "markdown",
   "id": "944fd3ab-7bbe-4e18-9fe1-ec3227108cbb",
   "metadata": {},
   "source": [
    "# Introduction and notebook template"
   ]
  },
  {
   "cell_type": "markdown",
   "id": "3ed6b25b-0a9c-47f7-ab7a-6654d3402b16",
   "metadata": {},
   "source": [
    "This notebook presents a common structure for notebooks that enable useful code idioms for running this dataset exploration.\n",
    "First, we load the following Python kernel extensions.\n",
    "\n",
    "1. `autoreload` facilitates ongoing development of module `acme4_explore`.\n",
    "2. `dotenv` provides configuration facilities.\n",
    "3. `quak` is a gorgeous table browsing extension for data frames.\n",
    "4. `sql` makes it much easier to wrangle DuckDB queries."
   ]
  },
  {
   "cell_type": "code",
   "execution_count": 1,
   "id": "75a0c0b8-b62e-437c-9546-d4f8f058b2ce",
   "metadata": {},
   "outputs": [
    {
     "data": {
      "text/html": [
       "<span style=\"None\">Tip: You may define configurations in /work/home/hamelin/Wintap-Analytics/2025-acme4-explore/pyproject.toml or /work/home/hamelin/.jupysql/config. </span>"
      ],
      "text/plain": [
       "Tip: You may define configurations in /work/home/hamelin/Wintap-Analytics/2025-acme4-explore/pyproject.toml or /work/home/hamelin/.jupysql/config. "
      ]
     },
     "metadata": {},
     "output_type": "display_data"
    },
    {
     "data": {
      "text/html": [
       "Please review our <a href='https://jupysql.ploomber.io/en/latest/api/configuration.html#loading-from-a-file'>configuration guideline</a>."
      ],
      "text/plain": [
       "<IPython.core.display.HTML object>"
      ]
     },
     "metadata": {},
     "output_type": "display_data"
    },
    {
     "data": {
      "text/html": [
       "<span style=\"None\">Did not find user configurations in /work/home/hamelin/Wintap-Analytics/2025-acme4-explore/pyproject.toml.</span>"
      ],
      "text/plain": [
       "Did not find user configurations in /work/home/hamelin/Wintap-Analytics/2025-acme4-explore/pyproject.toml."
      ]
     },
     "metadata": {},
     "output_type": "display_data"
    }
   ],
   "source": [
    "%load_ext autoreload\n",
    "%load_ext dotenv\n",
    "%load_ext quak\n",
    "%load_ext sql"
   ]
  },
  {
   "cell_type": "markdown",
   "id": "e3b41a6f-a444-4653-bcf2-21e54a6d28ff",
   "metadata": {},
   "source": [
    "We configure `autoreload` to avoid restarting the kernel while code-editing `acme4_explore`.\n",
    "As new submodules get added, add them also as `%aimport` statements."
   ]
  },
  {
   "cell_type": "code",
   "execution_count": 2,
   "id": "74366460-8e7b-47a8-8e95-eb6f7de30ab7",
   "metadata": {},
   "outputs": [],
   "source": [
    "%autoreload 1\n",
    "%aimport acme4_explore"
   ]
  },
  {
   "cell_type": "markdown",
   "id": "e810c703-860f-4657-9f4d-13a1557810db",
   "metadata": {},
   "source": [
    "Load configuration settings stored in `.env`."
   ]
  },
  {
   "cell_type": "code",
   "execution_count": 3,
   "id": "b097e801-6520-46c3-9acc-14f8bf837833",
   "metadata": {},
   "outputs": [],
   "source": [
    "%dotenv"
   ]
  },
  {
   "cell_type": "markdown",
   "id": "4abb90e6-dc96-4044-8eee-9f77ea332a33",
   "metadata": {},
   "source": [
    "We have what we need to run imports already."
   ]
  },
  {
   "cell_type": "code",
   "execution_count": 4,
   "id": "67db5946-198d-4430-8a31-79fab69280dc",
   "metadata": {},
   "outputs": [],
   "source": [
    "import acme4_explore\n",
    "import logging\n",
    "import os"
   ]
  },
  {
   "cell_type": "markdown",
   "id": "75240939-86b1-4b9b-8dc6-0f4122e9e3ee",
   "metadata": {},
   "source": [
    "Configuring logging is most useful.\n",
    "Function `acme4_explore.logging_config` assists with doing so uniformly across notebooks."
   ]
  },
  {
   "cell_type": "code",
   "execution_count": 5,
   "id": "0c0ec0f9-71a4-4ea8-9607-94e5d68ca40a",
   "metadata": {},
   "outputs": [],
   "source": [
    "logging.basicConfig(**acme4_explore.logging_config())"
   ]
  },
  {
   "cell_type": "markdown",
   "id": "fa06f780-34ab-473d-af64-7ba899bb7b85",
   "metadata": {},
   "source": [
    "We can access a work directory to store intermediate artifacts,\n",
    "as well as write up labels or other data we find useful.\n",
    "Where is it? You can set it up in `.env`."
   ]
  },
  {
   "cell_type": "code",
   "execution_count": 6,
   "id": "233df73b-d533-4c1e-b121-1d23852d7cbb",
   "metadata": {},
   "outputs": [
    {
     "name": "stdout",
     "output_type": "stream",
     "text": [
      ".work\n",
      "/work/home/hamelin/Wintap-Analytics/2025-acme4-explore/.work\n"
     ]
    }
   ],
   "source": [
    "with acme4_explore.dir_work() as dir:\n",
    "    print(dir)\n",
    "    print(dir.resolve())"
   ]
  },
  {
   "cell_type": "markdown",
   "id": "c606f52a-93ed-4fce-acfc-0a7e26b418a2",
   "metadata": {},
   "source": [
    "Connect to the standard view of the dataset using DuckDB, appending files generated in the work directory.\n",
    "The following also properly configures things so that we may query the database using the `%sql` magic (either as line or cell magic).\n",
    "Note that this DuckDB instance is read-only.\n",
    "We append new data by writing new Parquet files in the work directory.\n",
    "\n",
    "> Hint: if you want to see the progress of the construction of the database, run in a cell: `logging.getLogger(\"acme4_explore\").setLevel(\"DEBUG\")`.\n",
    "> My own `.env` is set up to always set the logging level of this module by having: `LOG_LEVEL = '{\"acme4_explore\": \"DEBUG\"}'`."
   ]
  },
  {
   "cell_type": "code",
   "execution_count": 7,
   "id": "8875bdd7-fe3b-4a38-ab5c-9cf2d7c3e507",
   "metadata": {},
   "outputs": [
    {
     "name": "stderr",
     "output_type": "stream",
     "text": [
      "15:49:20 | INFO     | acme4_explore            | Access dataset over httpfs\n",
      "15:49:20 | DEBUG    | acme4_explore            | Add standard view to all_files over https://gdo168.llnl.gov/data/ACME4/stdview-20240819-20240923/all_files.parquet\n",
      "15:49:21 | DEBUG    | acme4_explore            | Add standard view to files over https://gdo168.llnl.gov/data/ACME4/stdview-20240819-20240923/files.parquet\n",
      "15:49:21 | DEBUG    | acme4_explore            | Add standard view to host over https://gdo168.llnl.gov/data/ACME4/stdview-20240819-20240923/host.parquet\n",
      "15:49:22 | DEBUG    | acme4_explore            | Add standard view to host_ip over https://gdo168.llnl.gov/data/ACME4/stdview-20240819-20240923/host_ip.parquet\n",
      "15:49:22 | DEBUG    | acme4_explore            | Add standard view to labels_graph_net_conn over https://gdo168.llnl.gov/data/ACME4/stdview-20240819-20240923/labels_graph_net_conn.parquet\n",
      "15:49:23 | DEBUG    | acme4_explore            | Add standard view to labels_graph_nodes over https://gdo168.llnl.gov/data/ACME4/stdview-20240819-20240923/labels_graph_nodes.parquet\n",
      "15:49:24 | DEBUG    | acme4_explore            | Add standard view to labels_graph_process_summary over https://gdo168.llnl.gov/data/ACME4/stdview-20240819-20240923/labels_graph_process_summary.parquet\n",
      "15:49:24 | DEBUG    | acme4_explore            | Add standard view to labels_networkx over https://gdo168.llnl.gov/data/ACME4/stdview-20240819-20240923/labels_networkx.parquet\n",
      "15:49:25 | DEBUG    | acme4_explore            | Add standard view to lolbas over https://gdo168.llnl.gov/data/ACME4/stdview-20240819-20240923/lolbas.parquet\n",
      "15:49:25 | DEBUG    | acme4_explore            | Add standard view to mitre_labels over https://gdo168.llnl.gov/data/ACME4/stdview-20240819-20240923/mitre_labels.parquet\n",
      "15:49:26 | DEBUG    | acme4_explore            | Add standard view to process over https://gdo168.llnl.gov/data/ACME4/stdview-20240819-20240923/process.parquet\n",
      "15:49:27 | DEBUG    | acme4_explore            | Add standard view to process_conn_incr over https://gdo168.llnl.gov/data/ACME4/stdview-20240819-20240923/process_conn_incr.parquet\n",
      "15:49:27 | DEBUG    | acme4_explore            | Add standard view to process_exe_file_summary over https://gdo168.llnl.gov/data/ACME4/stdview-20240819-20240923/process_exe_file_summary.parquet\n",
      "15:49:28 | DEBUG    | acme4_explore            | Add standard view to process_file over https://gdo168.llnl.gov/data/ACME4/stdview-20240819-20240923/process_file.parquet\n",
      "15:49:29 | DEBUG    | acme4_explore            | Add standard view to process_file_summary over https://gdo168.llnl.gov/data/ACME4/stdview-20240819-20240923/process_file_summary.parquet\n",
      "15:49:29 | DEBUG    | acme4_explore            | Add standard view to process_image_load over https://gdo168.llnl.gov/data/ACME4/stdview-20240819-20240923/process_image_load.parquet\n",
      "15:49:31 | DEBUG    | acme4_explore            | Add standard view to process_image_load_summary over https://gdo168.llnl.gov/data/ACME4/stdview-20240819-20240923/process_image_load_summary.parquet\n",
      "15:49:32 | DEBUG    | acme4_explore            | Add standard view to process_lolbas_summary over https://gdo168.llnl.gov/data/ACME4/stdview-20240819-20240923/process_lolbas_summary.parquet\n",
      "15:49:32 | DEBUG    | acme4_explore            | Add standard view to process_mitre_summary over https://gdo168.llnl.gov/data/ACME4/stdview-20240819-20240923/process_mitre_summary.parquet\n",
      "15:49:33 | DEBUG    | acme4_explore            | Add standard view to process_net_conn over https://gdo168.llnl.gov/data/ACME4/stdview-20240819-20240923/process_net_conn.parquet\n",
      "15:49:34 | DEBUG    | acme4_explore            | Add standard view to process_net_summary over https://gdo168.llnl.gov/data/ACME4/stdview-20240819-20240923/process_net_summary.parquet\n",
      "15:49:35 | DEBUG    | acme4_explore            | Add standard view to process_path over https://gdo168.llnl.gov/data/ACME4/stdview-20240819-20240923/process_path.parquet\n",
      "15:49:35 | DEBUG    | acme4_explore            | Add standard view to process_registry over https://gdo168.llnl.gov/data/ACME4/stdview-20240819-20240923/process_registry.parquet\n",
      "15:49:37 | DEBUG    | acme4_explore            | Add standard view to process_registry_summary over https://gdo168.llnl.gov/data/ACME4/stdview-20240819-20240923/process_registry_summary.parquet\n",
      "15:49:38 | DEBUG    | acme4_explore            | Add standard view to process_summary over https://gdo168.llnl.gov/data/ACME4/stdview-20240819-20240923/process_summary.parquet\n",
      "15:49:39 | DEBUG    | acme4_explore            | Add standard view to process_uber_summary over https://gdo168.llnl.gov/data/ACME4/stdview-20240819-20240923/process_uber_summary.parquet\n",
      "15:49:41 | DEBUG    | acme4_explore            | Add standard view to sigma_labels over https://gdo168.llnl.gov/data/ACME4/stdview-20240819-20240923/sigma_labels.parquet\n",
      "15:49:41 | DEBUG    | acme4_explore            | Add standard view to sigma_labels_summary over https://gdo168.llnl.gov/data/ACME4/stdview-20240819-20240923/sigma_labels_summary.parquet\n"
     ]
    }
   ],
   "source": [
    "db = acme4_explore.connect_db()\n",
    "%sql db --alias duckdb\n",
    "%config SqlMagic.displaycon=False\n",
    "%config SqlMagic.autopandas=True"
   ]
  },
  {
   "cell_type": "markdown",
   "id": "552f0721-a14f-46e0-838b-ea1f469ebab7",
   "metadata": {},
   "source": [
    "So what views can we access in this database?"
   ]
  },
  {
   "cell_type": "code",
   "execution_count": 8,
   "id": "203832b5-3c79-4ea4-a0dd-c5cfa229c2db",
   "metadata": {},
   "outputs": [
    {
     "data": {
      "application/vnd.jupyter.widget-view+json": {
       "model_id": "197d87dba2fb44bcb17e320b2d8d27b0",
       "version_major": 2,
       "version_minor": 1
      },
      "text/plain": [
       "Widget(sql='SELECT * FROM \"df\"')"
      ]
     },
     "execution_count": 8,
     "metadata": {},
     "output_type": "execute_result"
    }
   ],
   "source": [
    "%%sql\n",
    "select table_name, table_type, is_insertable_into\n",
    "from information_schema.tables"
   ]
  }
 ],
 "metadata": {
  "kernelspec": {
   "display_name": "ACME4 Explore",
   "language": "python",
   "name": "acme4-explore"
  },
  "language_info": {
   "codemirror_mode": {
    "name": "ipython",
    "version": 3
   },
   "file_extension": ".py",
   "mimetype": "text/x-python",
   "name": "python",
   "nbconvert_exporter": "python",
   "pygments_lexer": "ipython3",
   "version": "3.13.3"
  }
 },
 "nbformat": 4,
 "nbformat_minor": 5
}
