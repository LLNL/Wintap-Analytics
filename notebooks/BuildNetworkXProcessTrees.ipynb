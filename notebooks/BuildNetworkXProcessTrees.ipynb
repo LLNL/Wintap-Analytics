{
 "cells": [
  {
   "cell_type": "markdown",
   "metadata": {},
   "source": [
    "# Simple Process Tree Builder\n",
    "\n",
    "This notebook opens a Wintap process parquet file (or files) using duckdb to build a networkx process tree graph.\n",
    "\n",
    "Workflow is:\n",
    "\n",
    "1. Map process parquet into a duckdb view\n",
    "2. Create an iterator for all rows in the set using the wg.add_all() function.\n",
    "    Note: the current example function is dead simple, but could be greatly enhanced with complex filtering, joining, etc.\n",
    "3. Pass the iterator to the build graph function which adds nodes with properties and parent->child relationships\n",
    "4. Display a few simple metics about the graph\n",
    "\n",
    "## Setup\n",
    "Download data from https://gdo-wintap.llnl.gov\n",
    "\n",
    "A good starting set is: https://gdo168.llnl.gov/data/ACME-2023/stdview-20231109-20231111/process_summary.parquet\n",
    "\n",
    "If you'd like more data, look into the longer date ranges.\n",
    "\n",
    "Modify the path in the \"create view\" statement to point to where you have downloaded the process_summary.parquet file. "
   ]
  },
  {
   "cell_type": "code",
   "execution_count": null,
   "metadata": {},
   "outputs": [],
   "source": [
    "# Import packages used in notebooks\n",
    "import duckdb\n",
    "import networkx as nx\n",
    "import wintapgraph as wg\n",
    "import pandas as pd\n",
    "%load_ext magic_duckdb\n",
    "pd.set_option('display.max_rows', 200)"
   ]
  },
  {
   "cell_type": "code",
   "execution_count": null,
   "metadata": {},
   "outputs": [],
   "source": [
    "# Initialize an in-memory db. Save reference in a variable and then set magic-duckdb environment. Result is ability to use the same DB instance from python code and %dql/%%dql magics.\n",
    "con = duckdb.connect()\n",
    "%dql -co con\n",
    "# Only uses a process table\n",
    "%dql create view process as from '~/data/wintapv6/ACME-Redo/stdview-20231109-20231111/process_summary.parquet'\n",
    "# Display a simple summary of the process_uber_summary table\n",
    "%dql summarize process\n"
   ]
  },
  {
   "cell_type": "code",
   "execution_count": 3,
   "metadata": {},
   "outputs": [],
   "source": [
    "processes = wg.add_all(con)\n",
    "netg = wg.build_process_tree_graph(con, processes)\n",
    "netg"
   ]
  },
  {
   "cell_type": "code",
   "execution_count": null,
   "metadata": {},
   "outputs": [],
   "source": [
    "[len(c) for c in sorted(nx.connected_components(netg), key=len, reverse=True)]"
   ]
  },
  {
   "cell_type": "code",
   "execution_count": null,
   "metadata": {},
   "outputs": [],
   "source": [
    "nx.number_connected_components(netg)"
   ]
  },
  {
   "cell_type": "code",
   "execution_count": null,
   "metadata": {},
   "outputs": [],
   "source": [
    "%dql select count(*) from process"
   ]
  },
  {
   "cell_type": "code",
   "execution_count": null,
   "metadata": {},
   "outputs": [],
   "source": []
  }
 ],
 "metadata": {
  "kernelspec": {
   "display_name": "wintappy-dev",
   "language": "python",
   "name": "python3"
  },
  "language_info": {
   "codemirror_mode": {
    "name": "ipython",
    "version": 3
   },
   "file_extension": ".py",
   "mimetype": "text/x-python",
   "name": "python",
   "nbconvert_exporter": "python",
   "pygments_lexer": "ipython3",
   "version": "3.11.9"
  }
 },
 "nbformat": 4,
 "nbformat_minor": 2
}
