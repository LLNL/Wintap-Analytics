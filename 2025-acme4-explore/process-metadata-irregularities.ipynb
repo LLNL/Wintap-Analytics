{
 "cells": [
  {
   "cell_type": "markdown",
   "id": "a0d1088d-7003-4beb-b947-c242c7f35044",
   "metadata": {},
   "source": [
    "# Process metadata and lineage anomalies\n",
    "\n",
    "The ACME4 dataset assigns the responsibility of each captured event to a _process instance_,\n",
    "uniquely identified with a **PID hash** (`pid_hash`).\n",
    "Thus, a pervasive analysis of all process instances would presume to include all of these identifiers.\n",
    "However, some cursory analysis exposes that some of these PID hashes are _duds_:\n",
    "there seems to be missing fundamental metadata regarding such processes.\n",
    "This notebook aims at labeling these process instances in order to exclude them from analytic consideration."
   ]
  },
  {
   "cell_type": "code",
   "execution_count": 1,
   "id": "6dfb00b2-87fa-40ef-a556-ad8cc2b86a1a",
   "metadata": {},
   "outputs": [
    {
     "data": {
      "text/html": [
       "<span style=\"None\">Tip: You may define configurations in /work/home/hamelin/Wintap-Analytics/2025-acme4-explore/pyproject.toml or /work/home/hamelin/.jupysql/config. </span>"
      ],
      "text/plain": [
       "Tip: You may define configurations in /work/home/hamelin/Wintap-Analytics/2025-acme4-explore/pyproject.toml or /work/home/hamelin/.jupysql/config. "
      ]
     },
     "metadata": {},
     "output_type": "display_data"
    },
    {
     "data": {
      "text/html": [
       "Please review our <a href='https://jupysql.ploomber.io/en/latest/api/configuration.html#loading-from-a-file'>configuration guideline</a>."
      ],
      "text/plain": [
       "<IPython.core.display.HTML object>"
      ]
     },
     "metadata": {},
     "output_type": "display_data"
    },
    {
     "data": {
      "text/html": [
       "<span style=\"None\">Did not find user configurations in /work/home/hamelin/Wintap-Analytics/2025-acme4-explore/pyproject.toml.</span>"
      ],
      "text/plain": [
       "Did not find user configurations in /work/home/hamelin/Wintap-Analytics/2025-acme4-explore/pyproject.toml."
      ]
     },
     "metadata": {},
     "output_type": "display_data"
    }
   ],
   "source": [
    "%load_ext autoreload\n",
    "%load_ext dotenv\n",
    "#%load_ext quak\n",
    "%load_ext sql"
   ]
  },
  {
   "cell_type": "code",
   "execution_count": 2,
   "id": "563f5c94-852a-4b0f-9a3b-336ddb037394",
   "metadata": {},
   "outputs": [],
   "source": [
    "%autoreload 1\n",
    "%aimport acme4_explore"
   ]
  },
  {
   "cell_type": "code",
   "execution_count": 3,
   "id": "0a6a35e4-754e-422e-b3cb-2c5d523bf280",
   "metadata": {},
   "outputs": [],
   "source": [
    "%dotenv"
   ]
  },
  {
   "cell_type": "code",
   "execution_count": 4,
   "id": "9d2a06e9-47ac-4a57-9f7d-980153edcedd",
   "metadata": {},
   "outputs": [],
   "source": [
    "import acme4_explore\n",
    "import logging as lg\n",
    "import matplotlib.pyplot as plt\n",
    "import numpy as np\n",
    "import os\n",
    "import pandas as pd\n",
    "from pathlib import Path\n",
    "import re\n",
    "from tqdm.auto import tqdm, trange"
   ]
  },
  {
   "cell_type": "code",
   "execution_count": 5,
   "id": "20424cd9-7c63-4534-8670-2166d16ee5eb",
   "metadata": {},
   "outputs": [],
   "source": [
    "lg.basicConfig(**acme4_explore.logging_config())\n",
    "LOG = lg.getLogger(\"notebook\")"
   ]
  },
  {
   "cell_type": "code",
   "execution_count": 6,
   "id": "be6fd4bb-5c73-49ed-b4c7-1ba63edf5378",
   "metadata": {},
   "outputs": [],
   "source": [
    "db = acme4_explore.connect_db()\n",
    "%sql db --alias duckdb\n",
    "%config SqlMagic.displaycon=False\n",
    "%config SqlMagic.autopandas=True"
   ]
  },
  {
   "cell_type": "markdown",
   "id": "f70b0cb0-a055-45f5-9eeb-d65bcae5b256",
   "metadata": {},
   "source": [
    "_Duds_ are PID hashes for which no parent PID hash is recorded."
   ]
  },
  {
   "cell_type": "code",
   "execution_count": 7,
   "id": "2e1278e9-b719-409b-af79-441281530b2d",
   "metadata": {},
   "outputs": [],
   "source": [
    "%%sql duds <<\n",
    "select pid_hash, process_name, args\n",
    "from process\n",
    "where parent_pid_hash is null"
   ]
  },
  {
   "cell_type": "code",
   "execution_count": 8,
   "id": "9e9d39d9-d1c2-4d7f-8ae4-f60cf7aebec0",
   "metadata": {},
   "outputs": [
    {
     "data": {
      "text/html": [
       "<div>\n",
       "<style scoped>\n",
       "    .dataframe tbody tr th:only-of-type {\n",
       "        vertical-align: middle;\n",
       "    }\n",
       "\n",
       "    .dataframe tbody tr th {\n",
       "        vertical-align: top;\n",
       "    }\n",
       "\n",
       "    .dataframe thead th {\n",
       "        text-align: right;\n",
       "    }\n",
       "</style>\n",
       "<table border=\"1\" class=\"dataframe\">\n",
       "  <thead>\n",
       "    <tr style=\"text-align: right;\">\n",
       "      <th></th>\n",
       "      <th>pid_hash</th>\n",
       "      <th>process_name</th>\n",
       "      <th>args</th>\n",
       "    </tr>\n",
       "  </thead>\n",
       "  <tbody>\n",
       "    <tr>\n",
       "      <th>0</th>\n",
       "      <td>1F2CD6387409AC52197E229DF5E01480</td>\n",
       "      <td>None</td>\n",
       "      <td>None</td>\n",
       "    </tr>\n",
       "    <tr>\n",
       "      <th>1</th>\n",
       "      <td>5E5F77D9A0BB72CA82F910F94CE9083A</td>\n",
       "      <td>None</td>\n",
       "      <td>None</td>\n",
       "    </tr>\n",
       "    <tr>\n",
       "      <th>2</th>\n",
       "      <td>E86668F7CF2E2895FA9D785777F93FD6</td>\n",
       "      <td>None</td>\n",
       "      <td>None</td>\n",
       "    </tr>\n",
       "    <tr>\n",
       "      <th>3</th>\n",
       "      <td>72BEE33B015916E6F555DB4B4908070B</td>\n",
       "      <td>None</td>\n",
       "      <td>None</td>\n",
       "    </tr>\n",
       "    <tr>\n",
       "      <th>4</th>\n",
       "      <td>5717F94252DDD6E0D5D4984FEB6B9171</td>\n",
       "      <td>None</td>\n",
       "      <td>None</td>\n",
       "    </tr>\n",
       "    <tr>\n",
       "      <th>...</th>\n",
       "      <td>...</td>\n",
       "      <td>...</td>\n",
       "      <td>...</td>\n",
       "    </tr>\n",
       "    <tr>\n",
       "      <th>12121</th>\n",
       "      <td>F237FB4EFBFCC26E5BABA610EE4AAD49</td>\n",
       "      <td>None</td>\n",
       "      <td>None</td>\n",
       "    </tr>\n",
       "    <tr>\n",
       "      <th>12122</th>\n",
       "      <td>504B38D65A18EA48476EFAEFB83EEED7</td>\n",
       "      <td>None</td>\n",
       "      <td>None</td>\n",
       "    </tr>\n",
       "    <tr>\n",
       "      <th>12123</th>\n",
       "      <td>1694025B7EF0C319334CDDE0A8D71ABD</td>\n",
       "      <td>wmic.exe</td>\n",
       "      <td>None</td>\n",
       "    </tr>\n",
       "    <tr>\n",
       "      <th>12124</th>\n",
       "      <td>4E35E4E205286EF99147B17F627E2989</td>\n",
       "      <td>conhost.exe</td>\n",
       "      <td>None</td>\n",
       "    </tr>\n",
       "    <tr>\n",
       "      <th>12125</th>\n",
       "      <td>58240E26107A5F98729DEBCAB4E1565B</td>\n",
       "      <td>conhost.exe</td>\n",
       "      <td>None</td>\n",
       "    </tr>\n",
       "  </tbody>\n",
       "</table>\n",
       "<p>12126 rows × 3 columns</p>\n",
       "</div>"
      ],
      "text/plain": [
       "                               pid_hash process_name  args\n",
       "0      1F2CD6387409AC52197E229DF5E01480         None  None\n",
       "1      5E5F77D9A0BB72CA82F910F94CE9083A         None  None\n",
       "2      E86668F7CF2E2895FA9D785777F93FD6         None  None\n",
       "3      72BEE33B015916E6F555DB4B4908070B         None  None\n",
       "4      5717F94252DDD6E0D5D4984FEB6B9171         None  None\n",
       "...                                 ...          ...   ...\n",
       "12121  F237FB4EFBFCC26E5BABA610EE4AAD49         None  None\n",
       "12122  504B38D65A18EA48476EFAEFB83EEED7         None  None\n",
       "12123  1694025B7EF0C319334CDDE0A8D71ABD     wmic.exe  None\n",
       "12124  4E35E4E205286EF99147B17F627E2989  conhost.exe  None\n",
       "12125  58240E26107A5F98729DEBCAB4E1565B  conhost.exe  None\n",
       "\n",
       "[12126 rows x 3 columns]"
      ]
     },
     "execution_count": 8,
     "metadata": {},
     "output_type": "execute_result"
    }
   ],
   "source": [
    "duds"
   ]
  },
  {
   "cell_type": "markdown",
   "id": "fe8d3843-88e6-417d-8878-f2c4f738cfc1",
   "metadata": {},
   "source": [
    "We can observe that, while some of these dud processes have a name, none have any non-trivial command line."
   ]
  },
  {
   "cell_type": "raw",
   "id": "277d1717-075b-45e1-8f41-07df20184b55",
   "metadata": {},
   "source": [
    "pd.set_option(\"display.max_rows\", None)"
   ]
  },
  {
   "cell_type": "code",
   "execution_count": 9,
   "id": "1b215d4f-c06e-4e02-acb8-441eb9a08f3f",
   "metadata": {},
   "outputs": [
    {
     "data": {
      "text/plain": [
       "process_name\n",
       "None                7022\n",
       "conhost.exe         3808\n",
       "wmic.exe             902\n",
       "svchost.exe           55\n",
       "taskhostw.exe         42\n",
       "                    ... \n",
       "inno_updater.exe       1\n",
       "atbroker.exe           1\n",
       "disksnapshot.exe       1\n",
       "wlrmdr.exe             1\n",
       "dwm.exe                1\n",
       "Name: count, Length: 71, dtype: int64"
      ]
     },
     "execution_count": 9,
     "metadata": {},
     "output_type": "execute_result"
    }
   ],
   "source": [
    "duds[\"process_name\"].value_counts(dropna=False)"
   ]
  },
  {
   "cell_type": "code",
   "execution_count": 10,
   "id": "73728c80-1f81-44b3-83a8-75952507a91b",
   "metadata": {},
   "outputs": [
    {
     "data": {
      "text/plain": [
       "args\n",
       "None    12126\n",
       "Name: count, dtype: int64"
      ]
     },
     "execution_count": 10,
     "metadata": {},
     "output_type": "execute_result"
    }
   ],
   "source": [
    "duds[\"args\"].value_counts(dropna=False)"
   ]
  },
  {
   "cell_type": "markdown",
   "id": "9afb32aa-43bb-4e1d-82a2-4e12e83ee932",
   "metadata": {},
   "source": [
    "Are these duds informed from the `process_path` table,\n",
    "which stores _lineage_ (the path from a process node to the root of a host's process tree)\n",
    "data?"
   ]
  },
  {
   "cell_type": "code",
   "execution_count": 11,
   "id": "88f07c7f-deef-47a6-8871-716cb39679c3",
   "metadata": {},
   "outputs": [
    {
     "data": {
      "text/html": [
       "<div>\n",
       "<style scoped>\n",
       "    .dataframe tbody tr th:only-of-type {\n",
       "        vertical-align: middle;\n",
       "    }\n",
       "\n",
       "    .dataframe tbody tr th {\n",
       "        vertical-align: top;\n",
       "    }\n",
       "\n",
       "    .dataframe thead th {\n",
       "        text-align: right;\n",
       "    }\n",
       "</style>\n",
       "<table border=\"1\" class=\"dataframe\">\n",
       "  <thead>\n",
       "    <tr style=\"text-align: right;\">\n",
       "      <th></th>\n",
       "      <th>num</th>\n",
       "    </tr>\n",
       "  </thead>\n",
       "  <tbody>\n",
       "    <tr>\n",
       "      <th>0</th>\n",
       "      <td>12070</td>\n",
       "    </tr>\n",
       "  </tbody>\n",
       "</table>\n",
       "</div>"
      ],
      "text/plain": [
       "     num\n",
       "0  12070"
      ]
     },
     "execution_count": 11,
     "metadata": {},
     "output_type": "execute_result"
    }
   ],
   "source": [
    "%%sql\n",
    "select count(process_path.pid_hash) as num\n",
    "from process_path\n",
    "inner join duds using (pid_hash)"
   ]
  },
  {
   "cell_type": "markdown",
   "id": "30b9f8ce-986b-4756-a8fe-c95f252ab769",
   "metadata": {},
   "source": [
    "Answer: no.\n",
    "Most of them do have a record in `process_path`, however.\n",
    "What does the parent list of a process without a parent PID hash look like?"
   ]
  },
  {
   "cell_type": "code",
   "execution_count": 12,
   "id": "a9a8643d-9eff-4779-9e61-b4cb33d75e63",
   "metadata": {},
   "outputs": [],
   "source": [
    "%%sql duds_lineage <<\n",
    "select duds.pid_hash, ptree_list\n",
    "from duds\n",
    "inner join process_path using (pid_hash)"
   ]
  },
  {
   "cell_type": "code",
   "execution_count": 13,
   "id": "1a5aeb8a-8785-4e2c-9233-19cac6309813",
   "metadata": {},
   "outputs": [
    {
     "data": {
      "text/html": [
       "<div>\n",
       "<style scoped>\n",
       "    .dataframe tbody tr th:only-of-type {\n",
       "        vertical-align: middle;\n",
       "    }\n",
       "\n",
       "    .dataframe tbody tr th {\n",
       "        vertical-align: top;\n",
       "    }\n",
       "\n",
       "    .dataframe thead th {\n",
       "        text-align: right;\n",
       "    }\n",
       "</style>\n",
       "<table border=\"1\" class=\"dataframe\">\n",
       "  <thead>\n",
       "    <tr style=\"text-align: right;\">\n",
       "      <th></th>\n",
       "      <th>pid_hash</th>\n",
       "      <th>ptree_list</th>\n",
       "    </tr>\n",
       "  </thead>\n",
       "  <tbody>\n",
       "    <tr>\n",
       "      <th>0</th>\n",
       "      <td>ABAC7CCEABC7E0663758005EDD2CBDA9</td>\n",
       "      <td>[ABAC7CCEABC7E0663758005EDD2CBDA9]</td>\n",
       "    </tr>\n",
       "    <tr>\n",
       "      <th>1</th>\n",
       "      <td>ADB470E1F049A92DC034DF38D8BD2465</td>\n",
       "      <td>[ADB470E1F049A92DC034DF38D8BD2465]</td>\n",
       "    </tr>\n",
       "    <tr>\n",
       "      <th>2</th>\n",
       "      <td>BA7687D6B369D679639564DDF4F4CBCE</td>\n",
       "      <td>[BA7687D6B369D679639564DDF4F4CBCE]</td>\n",
       "    </tr>\n",
       "    <tr>\n",
       "      <th>3</th>\n",
       "      <td>BAF2A75920C33AE1217BE8CBAF1AF1B3</td>\n",
       "      <td>[BAF2A75920C33AE1217BE8CBAF1AF1B3]</td>\n",
       "    </tr>\n",
       "    <tr>\n",
       "      <th>4</th>\n",
       "      <td>D1FB4A8D17E2460CDF30E0FF560EB7DF</td>\n",
       "      <td>[D1FB4A8D17E2460CDF30E0FF560EB7DF]</td>\n",
       "    </tr>\n",
       "    <tr>\n",
       "      <th>...</th>\n",
       "      <td>...</td>\n",
       "      <td>...</td>\n",
       "    </tr>\n",
       "    <tr>\n",
       "      <th>12065</th>\n",
       "      <td>84A67F281CE5AB4B6902DAC1BE1712AD</td>\n",
       "      <td>[84A67F281CE5AB4B6902DAC1BE1712AD]</td>\n",
       "    </tr>\n",
       "    <tr>\n",
       "      <th>12066</th>\n",
       "      <td>861E656C2A983DCF97C67E14968CDEC3</td>\n",
       "      <td>[861E656C2A983DCF97C67E14968CDEC3]</td>\n",
       "    </tr>\n",
       "    <tr>\n",
       "      <th>12067</th>\n",
       "      <td>8806F08D16A4013CD910B8040C322AE3</td>\n",
       "      <td>[8806F08D16A4013CD910B8040C322AE3]</td>\n",
       "    </tr>\n",
       "    <tr>\n",
       "      <th>12068</th>\n",
       "      <td>8934B041C08F6646F855C3674A2225AD</td>\n",
       "      <td>[8934B041C08F6646F855C3674A2225AD]</td>\n",
       "    </tr>\n",
       "    <tr>\n",
       "      <th>12069</th>\n",
       "      <td>8A4F8239ABD58D65BBBFBE9D05380483</td>\n",
       "      <td>[8A4F8239ABD58D65BBBFBE9D05380483]</td>\n",
       "    </tr>\n",
       "  </tbody>\n",
       "</table>\n",
       "<p>12070 rows × 2 columns</p>\n",
       "</div>"
      ],
      "text/plain": [
       "                               pid_hash                          ptree_list\n",
       "0      ABAC7CCEABC7E0663758005EDD2CBDA9  [ABAC7CCEABC7E0663758005EDD2CBDA9]\n",
       "1      ADB470E1F049A92DC034DF38D8BD2465  [ADB470E1F049A92DC034DF38D8BD2465]\n",
       "2      BA7687D6B369D679639564DDF4F4CBCE  [BA7687D6B369D679639564DDF4F4CBCE]\n",
       "3      BAF2A75920C33AE1217BE8CBAF1AF1B3  [BAF2A75920C33AE1217BE8CBAF1AF1B3]\n",
       "4      D1FB4A8D17E2460CDF30E0FF560EB7DF  [D1FB4A8D17E2460CDF30E0FF560EB7DF]\n",
       "...                                 ...                                 ...\n",
       "12065  84A67F281CE5AB4B6902DAC1BE1712AD  [84A67F281CE5AB4B6902DAC1BE1712AD]\n",
       "12066  861E656C2A983DCF97C67E14968CDEC3  [861E656C2A983DCF97C67E14968CDEC3]\n",
       "12067  8806F08D16A4013CD910B8040C322AE3  [8806F08D16A4013CD910B8040C322AE3]\n",
       "12068  8934B041C08F6646F855C3674A2225AD  [8934B041C08F6646F855C3674A2225AD]\n",
       "12069  8A4F8239ABD58D65BBBFBE9D05380483  [8A4F8239ABD58D65BBBFBE9D05380483]\n",
       "\n",
       "[12070 rows x 2 columns]"
      ]
     },
     "execution_count": 13,
     "metadata": {},
     "output_type": "execute_result"
    }
   ],
   "source": [
    "duds_lineage"
   ]
  },
  {
   "cell_type": "markdown",
   "id": "29f68d01-3df7-46a1-b52f-3df42b05dbdb",
   "metadata": {},
   "source": [
    "As the `ptree_list` column of `process_path` stores the lineage in process-to-root order,\n",
    "where a process has no parent,\n",
    "it stores only the process' own PID hash."
   ]
  },
  {
   "cell_type": "code",
   "execution_count": 14,
   "id": "62de205b-528f-47c0-8f91-33da703cd1fb",
   "metadata": {},
   "outputs": [
    {
     "data": {
      "text/plain": [
       "ptree_list\n",
       "1    12070\n",
       "Name: count, dtype: int64"
      ]
     },
     "execution_count": 14,
     "metadata": {},
     "output_type": "execute_result"
    }
   ],
   "source": [
    "duds_lineage[\"ptree_list\"].map(len).value_counts()"
   ]
  },
  {
   "cell_type": "markdown",
   "id": "0b21c2ac-d6cc-4ba0-8dc0-470e3a622903",
   "metadata": {},
   "source": [
    "I would presume that few other processes would have a lineage of length 1;\n",
    "the only ones I can think of are those at the root of the process tree,\n",
    "and the only such root that comes to mind is the host's initial user mode process.\n",
    "Let's check."
   ]
  },
  {
   "cell_type": "code",
   "execution_count": 15,
   "id": "390e9b85-3ba9-49ce-ac3e-dabd8bd455c5",
   "metadata": {},
   "outputs": [],
   "source": [
    "%%sql no_lineage <<\n",
    "select pid_hash, process_name, length_lineage\n",
    "from (\n",
    "    select pid_hash, process_name, length(ptree_list) as length_lineage\n",
    "    from process_path\n",
    ")\n",
    "where length_lineage < 2"
   ]
  },
  {
   "cell_type": "code",
   "execution_count": 16,
   "id": "beef5efa-9c27-4949-b0f0-457c53b78649",
   "metadata": {},
   "outputs": [
    {
     "data": {
      "text/html": [
       "<div>\n",
       "<style scoped>\n",
       "    .dataframe tbody tr th:only-of-type {\n",
       "        vertical-align: middle;\n",
       "    }\n",
       "\n",
       "    .dataframe tbody tr th {\n",
       "        vertical-align: top;\n",
       "    }\n",
       "\n",
       "    .dataframe thead th {\n",
       "        text-align: right;\n",
       "    }\n",
       "</style>\n",
       "<table border=\"1\" class=\"dataframe\">\n",
       "  <thead>\n",
       "    <tr style=\"text-align: right;\">\n",
       "      <th></th>\n",
       "      <th>pid_hash</th>\n",
       "      <th>process_name</th>\n",
       "      <th>length_lineage</th>\n",
       "    </tr>\n",
       "  </thead>\n",
       "  <tbody>\n",
       "    <tr>\n",
       "      <th>0</th>\n",
       "      <td>00076962A860658B5C74574915AAD94C</td>\n",
       "      <td>conhost.exe</td>\n",
       "      <td>1</td>\n",
       "    </tr>\n",
       "    <tr>\n",
       "      <th>1</th>\n",
       "      <td>000C6DD334EAC0C94D4AB0147CB66823</td>\n",
       "      <td>conhost.exe</td>\n",
       "      <td>1</td>\n",
       "    </tr>\n",
       "    <tr>\n",
       "      <th>2</th>\n",
       "      <td>001999BCC533CC1B0FE072CA9BB692B9</td>\n",
       "      <td>conhost.exe</td>\n",
       "      <td>1</td>\n",
       "    </tr>\n",
       "    <tr>\n",
       "      <th>3</th>\n",
       "      <td>001FFD625FDE57A058ABD9EA10E208C5</td>\n",
       "      <td>conhost.exe</td>\n",
       "      <td>1</td>\n",
       "    </tr>\n",
       "    <tr>\n",
       "      <th>4</th>\n",
       "      <td>00398AF501769695839D8C0FDA9FFB36</td>\n",
       "      <td>conhost.exe</td>\n",
       "      <td>1</td>\n",
       "    </tr>\n",
       "    <tr>\n",
       "      <th>...</th>\n",
       "      <td>...</td>\n",
       "      <td>...</td>\n",
       "      <td>...</td>\n",
       "    </tr>\n",
       "    <tr>\n",
       "      <th>1123521</th>\n",
       "      <td>FFBFEB2EDDB89FDFADCF99BEB9F8D574</td>\n",
       "      <td>conhost.exe</td>\n",
       "      <td>1</td>\n",
       "    </tr>\n",
       "    <tr>\n",
       "      <th>1123522</th>\n",
       "      <td>FFC2AFA0D7A7C9AC523D1CF26B404401</td>\n",
       "      <td>conhost.exe</td>\n",
       "      <td>1</td>\n",
       "    </tr>\n",
       "    <tr>\n",
       "      <th>1123523</th>\n",
       "      <td>FFC2D3BA7F974A4293429C3291FAAA1C</td>\n",
       "      <td>conhost.exe</td>\n",
       "      <td>1</td>\n",
       "    </tr>\n",
       "    <tr>\n",
       "      <th>1123524</th>\n",
       "      <td>FFE06FDB5FEE7A569F9D787A4621B0D3</td>\n",
       "      <td>conhost.exe</td>\n",
       "      <td>1</td>\n",
       "    </tr>\n",
       "    <tr>\n",
       "      <th>1123525</th>\n",
       "      <td>FFF20EC3C08A8C66377479303F243839</td>\n",
       "      <td>conhost.exe</td>\n",
       "      <td>1</td>\n",
       "    </tr>\n",
       "  </tbody>\n",
       "</table>\n",
       "<p>1123526 rows × 3 columns</p>\n",
       "</div>"
      ],
      "text/plain": [
       "                                 pid_hash process_name  length_lineage\n",
       "0        00076962A860658B5C74574915AAD94C  conhost.exe               1\n",
       "1        000C6DD334EAC0C94D4AB0147CB66823  conhost.exe               1\n",
       "2        001999BCC533CC1B0FE072CA9BB692B9  conhost.exe               1\n",
       "3        001FFD625FDE57A058ABD9EA10E208C5  conhost.exe               1\n",
       "4        00398AF501769695839D8C0FDA9FFB36  conhost.exe               1\n",
       "...                                   ...          ...             ...\n",
       "1123521  FFBFEB2EDDB89FDFADCF99BEB9F8D574  conhost.exe               1\n",
       "1123522  FFC2AFA0D7A7C9AC523D1CF26B404401  conhost.exe               1\n",
       "1123523  FFC2D3BA7F974A4293429C3291FAAA1C  conhost.exe               1\n",
       "1123524  FFE06FDB5FEE7A569F9D787A4621B0D3  conhost.exe               1\n",
       "1123525  FFF20EC3C08A8C66377479303F243839  conhost.exe               1\n",
       "\n",
       "[1123526 rows x 3 columns]"
      ]
     },
     "execution_count": 16,
     "metadata": {},
     "output_type": "execute_result"
    }
   ],
   "source": [
    "no_lineage"
   ]
  },
  {
   "cell_type": "markdown",
   "id": "c71c24c8-953b-4661-bf1f-9f2c1e8b385b",
   "metadata": {},
   "source": [
    "This is surprising: most processes have a lineage composed only of themselves!"
   ]
  },
  {
   "cell_type": "code",
   "execution_count": 17,
   "id": "a88695c0-c391-485f-a991-9eb6c338b32c",
   "metadata": {},
   "outputs": [
    {
     "data": {
      "text/plain": [
       "length_lineage\n",
       "1    1123526\n",
       "Name: count, dtype: int64"
      ]
     },
     "execution_count": 17,
     "metadata": {},
     "output_type": "execute_result"
    }
   ],
   "source": [
    "no_lineage.length_lineage.value_counts()"
   ]
  },
  {
   "cell_type": "markdown",
   "id": "a9f90fb3-11cc-4ff6-a466-b8e9503c03da",
   "metadata": {},
   "source": [
    "What portion of the whole set of processes is that?!"
   ]
  },
  {
   "cell_type": "code",
   "execution_count": 18,
   "id": "9b1cf5c2-759a-4885-b461-1b9a5bbbc353",
   "metadata": {},
   "outputs": [
    {
     "data": {
      "text/plain": [
       "0.6335416895745755"
      ]
     },
     "execution_count": 18,
     "metadata": {},
     "output_type": "execute_result"
    }
   ],
   "source": [
    "num_total, = db.sql(\"select count(pid_hash) from process\").fetchone()\n",
    "no_lineage.shape[0] / num_total"
   ]
  },
  {
   "cell_type": "markdown",
   "id": "2a86a649-0413-4c46-a214-419d7c44346e",
   "metadata": {},
   "source": [
    "63% of the whole dataset has no parent process information!\n",
    "Surely this is not all init processes."
   ]
  },
  {
   "cell_type": "code",
   "execution_count": 19,
   "id": "21901f7a-da6d-41a4-9274-3728e7a98782",
   "metadata": {},
   "outputs": [
    {
     "data": {
      "text/plain": [
       "process_name\n",
       "conhost.exe                        1114979\n",
       "None                                  7022\n",
       "wmic.exe                               910\n",
       "svchost.exe                             57\n",
       "ntoskrnl.exe                            53\n",
       "                                    ...   \n",
       "msiexec.exe                              1\n",
       "securityhealthsystray.exe                1\n",
       "wsmprovhost.exe                          1\n",
       "apphostregistrationverifier.exe          1\n",
       "am_delta.exe                             1\n",
       "Name: count, Length: 90, dtype: int64"
      ]
     },
     "execution_count": 19,
     "metadata": {},
     "output_type": "execute_result"
    }
   ],
   "source": [
    "no_lineage[\"process_name\"].value_counts(dropna=False)"
   ]
  },
  {
   "cell_type": "markdown",
   "id": "d6e70cc3-f01e-44dd-b7e6-495aff1c6678",
   "metadata": {},
   "source": [
    "More than 90% of these no-lineage processes are `conhost.exe` processes &mdash;\n",
    "console hosts,\n",
    "processes that provide basic terminal services to command-line software.\n",
    "The initial process, `ntoskrnl.exe`,\n",
    "has counts that make sense given the number of hosts and the short duration of the data acquisitions.\n",
    "The rest is sensor or data aggregation issues.\n",
    "The high prevalence of parentless `conhost.exe` processes might also have to do with sensor or hypervisor behaviour,\n",
    "injecting processes into the hosts' userspace without going through a notional user-mode service or common kernel system call.\n",
    "Further investigation from the Wintap development team is certainly warranted."
   ]
  },
  {
   "cell_type": "markdown",
   "id": "4cd0f113-2c54-41cd-a223-171be5ada0ea",
   "metadata": {},
   "source": [
    "In any case,\n",
    "we have identified our duds,\n",
    "and we also have flagged a large-number of no-lineage processes.\n",
    "Let's save non-duds and properly-lineaged processes to Parquet files for downstream analysis."
   ]
  },
  {
   "cell_type": "code",
   "execution_count": 20,
   "id": "a22734c9-2b4d-4e65-a0c8-da29391c5bcc",
   "metadata": {},
   "outputs": [
    {
     "data": {
      "text/html": [
       "<div>\n",
       "<style scoped>\n",
       "    .dataframe tbody tr th:only-of-type {\n",
       "        vertical-align: middle;\n",
       "    }\n",
       "\n",
       "    .dataframe tbody tr th {\n",
       "        vertical-align: top;\n",
       "    }\n",
       "\n",
       "    .dataframe thead th {\n",
       "        text-align: right;\n",
       "    }\n",
       "</style>\n",
       "<table border=\"1\" class=\"dataframe\">\n",
       "  <thead>\n",
       "    <tr style=\"text-align: right;\">\n",
       "      <th></th>\n",
       "      <th>Count</th>\n",
       "    </tr>\n",
       "  </thead>\n",
       "  <tbody>\n",
       "    <tr>\n",
       "      <th>0</th>\n",
       "      <td>1761279</td>\n",
       "    </tr>\n",
       "  </tbody>\n",
       "</table>\n",
       "</div>"
      ],
      "text/plain": [
       "     Count\n",
       "0  1761279"
      ]
     },
     "execution_count": 20,
     "metadata": {},
     "output_type": "execute_result"
    }
   ],
   "source": [
    "%%sql\n",
    "copy (\n",
    "    select pid_hash, process_name, args, filename, hostname, exit_code\n",
    "    from process\n",
    "    anti join duds using (pid_hash)\n",
    ")\n",
    "to '{{acme4_explore.dir_work()}}/process_nondud.parquet'\n",
    "(format parquet, compression 'zstd')"
   ]
  },
  {
   "cell_type": "markdown",
   "id": "94fd34ee-2021-4055-8804-a2caf3c366f2",
   "metadata": {},
   "source": [
    "<a id=\"proper-lineage\"></a>The processes with a proper lineage:"
   ]
  },
  {
   "cell_type": "code",
   "execution_count": 21,
   "id": "c8ebaf04-ee4c-49dd-9d83-979e29d11c5e",
   "metadata": {},
   "outputs": [
    {
     "data": {
      "text/html": [
       "<div>\n",
       "<style scoped>\n",
       "    .dataframe tbody tr th:only-of-type {\n",
       "        vertical-align: middle;\n",
       "    }\n",
       "\n",
       "    .dataframe tbody tr th {\n",
       "        vertical-align: top;\n",
       "    }\n",
       "\n",
       "    .dataframe thead th {\n",
       "        text-align: right;\n",
       "    }\n",
       "</style>\n",
       "<table border=\"1\" class=\"dataframe\">\n",
       "  <thead>\n",
       "    <tr style=\"text-align: right;\">\n",
       "      <th></th>\n",
       "      <th>Count</th>\n",
       "    </tr>\n",
       "  </thead>\n",
       "  <tbody>\n",
       "    <tr>\n",
       "      <th>0</th>\n",
       "      <td>649421</td>\n",
       "    </tr>\n",
       "  </tbody>\n",
       "</table>\n",
       "</div>"
      ],
      "text/plain": [
       "    Count\n",
       "0  649421"
      ]
     },
     "execution_count": 21,
     "metadata": {},
     "output_type": "execute_result"
    }
   ],
   "source": [
    "%%sql\n",
    "copy (\n",
    "    select P.pid_hash, P.process_name, args, filename, P.hostname, exit_code, ptree, ptree_list, ptree_list_tuples\n",
    "    from process as P\n",
    "    inner join process_path using (pid_hash)\n",
    "    where length(ptree_list) > 1\n",
    ")\n",
    "to '{{acme4_explore.dir_work()}}/process_with_lineage.parquet'\n",
    "(format parquet, compression 'zstd')"
   ]
  }
 ],
 "metadata": {
  "kernelspec": {
   "display_name": "ACME4 Explore",
   "language": "python",
   "name": "acme4-explore"
  },
  "language_info": {
   "codemirror_mode": {
    "name": "ipython",
    "version": 3
   },
   "file_extension": ".py",
   "mimetype": "text/x-python",
   "name": "python",
   "nbconvert_exporter": "python",
   "pygments_lexer": "ipython3",
   "version": "3.13.3"
  }
 },
 "nbformat": 4,
 "nbformat_minor": 5
}
