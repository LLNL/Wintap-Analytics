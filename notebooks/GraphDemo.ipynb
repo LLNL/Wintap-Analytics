{
 "cells": [
  {
   "cell_type": "code",
   "execution_count": null,
   "metadata": {},
   "outputs": [],
   "source": [
    "# Import packages used in notebooks\n",
    "# from wintappy.datautils import rawutil as ru\n",
    "# from wintappy.datautils import stdview_duckdb as svd\n",
    "\n",
    "# import os\n",
    "# import altair as alt\n",
    "import duckdb\n",
    "import wintapgraph as wg\n",
    "import networkx as nx\n",
    "\n",
    "%load_ext magic_duckdb"
   ]
  },
  {
   "cell_type": "code",
   "execution_count": null,
   "metadata": {},
   "outputs": [],
   "source": [
    "# Initialize an in-memory db. Save reference in a variable and then set magic-duckdb environment. Result is ability to use the same DB instance from python code and %dql/%%dql magics.\n",
    "# Also create views for every top-level type found in the current dataset.\n",
    "con = duckdb.connect(\"ACME-workshop-20231109-20231111.db\", read_only=True)\n",
    "%dql -co con\n",
    "# Display the list of tables/views\n",
    "%dql show tables"
   ]
  },
  {
   "cell_type": "code",
   "execution_count": null,
   "metadata": {},
   "outputs": [],
   "source": [
    "import ipycytoscape\n",
    "import ipywidgets as widgets\n",
    "import networkx as nx\n",
    "\n",
    "netg, seed_processes = wg.build_graph(con, [\"ssh.exe\"])\n",
    "undirected = ipycytoscape.CytoscapeWidget()\n",
    "undirected.graph.add_graph_from_networkx(netg)\n",
    "undirected.set_style(\n",
    "    [\n",
    "        {\n",
    "            \"selector\": \"node\",\n",
    "            \"style\": {\n",
    "                \"font-family\": \"helvetica\",\n",
    "                \"font-size\": \"20px\",\n",
    "                \"label\": \"data(label)\",\n",
    "                \"text-wrap\": \"wrap\",\n",
    "            },\n",
    "        },\n",
    "        {\n",
    "            \"selector\": \"edge\",\n",
    "            \"style\": {\"font-family\": \"helvetica\", \"font-size\": \"20px\"},\n",
    "        },\n",
    "        {\"selector\": \"node[degree>0]\", \"style\": {\"width\": \"100px\", \"height\": \"100px\"}},\n",
    "        {\"selector\": \"node[degree>1]\", \"style\": {\"width\": \"150px\", \"height\": \"150px\"}},\n",
    "        {\"selector\": \"node[degree>2]\", \"style\": {\"width\": \"200px\", \"height\": \"200px\"}},\n",
    "    ]\n",
    ")\n",
    "\n",
    "display(undirected)"
   ]
  },
  {
   "cell_type": "code",
   "execution_count": null,
   "metadata": {},
   "outputs": [],
   "source": [
    "from matplotlib import pyplot as plt\n",
    "\n",
    "print(\"Drawing graph\")\n",
    "# Labels\n",
    "label_dict = {n: netg.nodes()[n][\"label\"] for n in netg.nodes}\n",
    "# Colors\n",
    "# TODO add support for colors based on attributes in the graph.\n",
    "# cmap = matplotlib.colors.ListedColormap(['dodgerblue', 'lightgray', 'darkorange'])\n",
    "node_types_map = {\"Root\": 0, \"Parent\": 1, \"Seed\": 2}\n",
    "\n",
    "plt.figure(figsize=(20, 14))\n",
    "# Kamada Kawai produces reasonable layouts and they are consistent. Spring has randomness which is annoying for repeatability.\n",
    "nx.draw_kamada_kawai(\n",
    "    netg, with_labels=True, labels=label_dict\n",
    ")  # ,node_color=node_types,cmap=cmap)"
   ]
  },
  {
   "cell_type": "code",
   "execution_count": null,
   "metadata": {},
   "outputs": [],
   "source": []
  }
 ],
 "metadata": {
  "kernelspec": {
   "display_name": "wintappy-dev",
   "language": "python",
   "name": "python3"
  },
  "language_info": {
   "codemirror_mode": {
    "name": "ipython",
    "version": 3
   },
   "file_extension": ".py",
   "mimetype": "text/x-python",
   "name": "python",
   "nbconvert_exporter": "python",
   "pygments_lexer": "ipython3",
   "version": "3.11.4"
  }
 },
 "nbformat": 4,
 "nbformat_minor": 2
}
